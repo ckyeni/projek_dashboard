{
  "cells": [
    {
      "cell_type": "markdown",
      "metadata": {
        "id": "H9wADwK78DCz"
      },
      "source": [
        "# Proyek Analisis Data: Bike Sharing Dataset (Hour)\n",
        "- **Nama:** Yeni Ckrisdayanti Manalu\n",
        "- **Email:** yeniickrisdayanti@gmail.com\n",
        "- **ID Dicoding:** MC322D5X1066"
      ]
    },
    {
      "cell_type": "markdown",
      "metadata": {
        "id": "eE0raob58DC0"
      },
      "source": [
        "## Menentukan Pertanyaan Bisnis"
      ]
    },
    {
      "cell_type": "markdown",
      "metadata": {
        "id": "GmQeQ5YF8DC0"
      },
      "source": [
        "- Pertanyaan 1: Bagaimana tren jumlah penyewaan sepeda setiap bulan selama tahun 2021 dan 2012, apakah terdapat perbedaan signifikan?\n",
        "- Pertanyaan 2: Bagaimana pengaruh kondisi cuaca terhadap jumlah penyewaan sepeda di tahun 2011 dan 2012, apakah terdapat perbedaan signifikan?\n",
        "- Pertanyaan 3: Bagaimana tren penyewaan sepeda berdasarkan jam?\n",
        "- Pertanyaan 4: Bagaimana pengaruh variabel cuaca (temperatur, kelembaban, dan kecepatan angin) terhadap jumlah penyewaan sepeda?\n"
      ]
    },
    {
      "cell_type": "markdown",
      "metadata": {
        "id": "H-z4QGlO8DC1"
      },
      "source": [
        "## Import Semua Packages/Library yang Digunakan"
      ]
    },
    {
      "cell_type": "code",
      "execution_count": 1,
      "metadata": {
        "id": "FVYwaObI8DC1"
      },
      "outputs": [],
      "source": [
        "import numpy as np\n",
        "import pandas as pd\n",
        "import matplotlib.pyplot as plt\n",
        "import seaborn as sns"
      ]
    },
    {
      "cell_type": "markdown",
      "metadata": {
        "id": "h_Sh51Xy8DC1"
      },
      "source": [
        "## Data Wrangling"
      ]
    },
    {
      "cell_type": "markdown",
      "metadata": {
        "id": "sXU2GBYu8DC1"
      },
      "source": [
        "### Gathering Data"
      ]
    },
    {
      "cell_type": "code",
      "execution_count": 101,
      "metadata": {
        "id": "zjCBk1BI8DC1"
      },
      "outputs": [
        {
          "data": {
            "text/html": [
              "<div>\n",
              "<style scoped>\n",
              "    .dataframe tbody tr th:only-of-type {\n",
              "        vertical-align: middle;\n",
              "    }\n",
              "\n",
              "    .dataframe tbody tr th {\n",
              "        vertical-align: top;\n",
              "    }\n",
              "\n",
              "    .dataframe thead th {\n",
              "        text-align: right;\n",
              "    }\n",
              "</style>\n",
              "<table border=\"1\" class=\"dataframe\">\n",
              "  <thead>\n",
              "    <tr style=\"text-align: right;\">\n",
              "      <th></th>\n",
              "      <th>instant</th>\n",
              "      <th>dteday</th>\n",
              "      <th>season</th>\n",
              "      <th>yr</th>\n",
              "      <th>mnth</th>\n",
              "      <th>hr</th>\n",
              "      <th>holiday</th>\n",
              "      <th>weekday</th>\n",
              "      <th>workingday</th>\n",
              "      <th>weathersit</th>\n",
              "      <th>temp</th>\n",
              "      <th>atemp</th>\n",
              "      <th>hum</th>\n",
              "      <th>windspeed</th>\n",
              "      <th>casual</th>\n",
              "      <th>registered</th>\n",
              "      <th>cnt</th>\n",
              "    </tr>\n",
              "  </thead>\n",
              "  <tbody>\n",
              "    <tr>\n",
              "      <th>0</th>\n",
              "      <td>1</td>\n",
              "      <td>2011-01-01</td>\n",
              "      <td>1</td>\n",
              "      <td>0</td>\n",
              "      <td>1</td>\n",
              "      <td>0</td>\n",
              "      <td>0</td>\n",
              "      <td>6</td>\n",
              "      <td>0</td>\n",
              "      <td>1</td>\n",
              "      <td>0.24</td>\n",
              "      <td>0.2879</td>\n",
              "      <td>0.81</td>\n",
              "      <td>0.0000</td>\n",
              "      <td>3</td>\n",
              "      <td>13</td>\n",
              "      <td>16</td>\n",
              "    </tr>\n",
              "    <tr>\n",
              "      <th>1</th>\n",
              "      <td>2</td>\n",
              "      <td>2011-01-01</td>\n",
              "      <td>1</td>\n",
              "      <td>0</td>\n",
              "      <td>1</td>\n",
              "      <td>1</td>\n",
              "      <td>0</td>\n",
              "      <td>6</td>\n",
              "      <td>0</td>\n",
              "      <td>1</td>\n",
              "      <td>0.22</td>\n",
              "      <td>0.2727</td>\n",
              "      <td>0.80</td>\n",
              "      <td>0.0000</td>\n",
              "      <td>8</td>\n",
              "      <td>32</td>\n",
              "      <td>40</td>\n",
              "    </tr>\n",
              "    <tr>\n",
              "      <th>2</th>\n",
              "      <td>3</td>\n",
              "      <td>2011-01-01</td>\n",
              "      <td>1</td>\n",
              "      <td>0</td>\n",
              "      <td>1</td>\n",
              "      <td>2</td>\n",
              "      <td>0</td>\n",
              "      <td>6</td>\n",
              "      <td>0</td>\n",
              "      <td>1</td>\n",
              "      <td>0.22</td>\n",
              "      <td>0.2727</td>\n",
              "      <td>0.80</td>\n",
              "      <td>0.0000</td>\n",
              "      <td>5</td>\n",
              "      <td>27</td>\n",
              "      <td>32</td>\n",
              "    </tr>\n",
              "    <tr>\n",
              "      <th>3</th>\n",
              "      <td>4</td>\n",
              "      <td>2011-01-01</td>\n",
              "      <td>1</td>\n",
              "      <td>0</td>\n",
              "      <td>1</td>\n",
              "      <td>3</td>\n",
              "      <td>0</td>\n",
              "      <td>6</td>\n",
              "      <td>0</td>\n",
              "      <td>1</td>\n",
              "      <td>0.24</td>\n",
              "      <td>0.2879</td>\n",
              "      <td>0.75</td>\n",
              "      <td>0.0000</td>\n",
              "      <td>3</td>\n",
              "      <td>10</td>\n",
              "      <td>13</td>\n",
              "    </tr>\n",
              "    <tr>\n",
              "      <th>4</th>\n",
              "      <td>5</td>\n",
              "      <td>2011-01-01</td>\n",
              "      <td>1</td>\n",
              "      <td>0</td>\n",
              "      <td>1</td>\n",
              "      <td>4</td>\n",
              "      <td>0</td>\n",
              "      <td>6</td>\n",
              "      <td>0</td>\n",
              "      <td>1</td>\n",
              "      <td>0.24</td>\n",
              "      <td>0.2879</td>\n",
              "      <td>0.75</td>\n",
              "      <td>0.0000</td>\n",
              "      <td>0</td>\n",
              "      <td>1</td>\n",
              "      <td>1</td>\n",
              "    </tr>\n",
              "    <tr>\n",
              "      <th>...</th>\n",
              "      <td>...</td>\n",
              "      <td>...</td>\n",
              "      <td>...</td>\n",
              "      <td>...</td>\n",
              "      <td>...</td>\n",
              "      <td>...</td>\n",
              "      <td>...</td>\n",
              "      <td>...</td>\n",
              "      <td>...</td>\n",
              "      <td>...</td>\n",
              "      <td>...</td>\n",
              "      <td>...</td>\n",
              "      <td>...</td>\n",
              "      <td>...</td>\n",
              "      <td>...</td>\n",
              "      <td>...</td>\n",
              "      <td>...</td>\n",
              "    </tr>\n",
              "    <tr>\n",
              "      <th>17374</th>\n",
              "      <td>17375</td>\n",
              "      <td>2012-12-31</td>\n",
              "      <td>1</td>\n",
              "      <td>1</td>\n",
              "      <td>12</td>\n",
              "      <td>19</td>\n",
              "      <td>0</td>\n",
              "      <td>1</td>\n",
              "      <td>1</td>\n",
              "      <td>2</td>\n",
              "      <td>0.26</td>\n",
              "      <td>0.2576</td>\n",
              "      <td>0.60</td>\n",
              "      <td>0.1642</td>\n",
              "      <td>11</td>\n",
              "      <td>108</td>\n",
              "      <td>119</td>\n",
              "    </tr>\n",
              "    <tr>\n",
              "      <th>17375</th>\n",
              "      <td>17376</td>\n",
              "      <td>2012-12-31</td>\n",
              "      <td>1</td>\n",
              "      <td>1</td>\n",
              "      <td>12</td>\n",
              "      <td>20</td>\n",
              "      <td>0</td>\n",
              "      <td>1</td>\n",
              "      <td>1</td>\n",
              "      <td>2</td>\n",
              "      <td>0.26</td>\n",
              "      <td>0.2576</td>\n",
              "      <td>0.60</td>\n",
              "      <td>0.1642</td>\n",
              "      <td>8</td>\n",
              "      <td>81</td>\n",
              "      <td>89</td>\n",
              "    </tr>\n",
              "    <tr>\n",
              "      <th>17376</th>\n",
              "      <td>17377</td>\n",
              "      <td>2012-12-31</td>\n",
              "      <td>1</td>\n",
              "      <td>1</td>\n",
              "      <td>12</td>\n",
              "      <td>21</td>\n",
              "      <td>0</td>\n",
              "      <td>1</td>\n",
              "      <td>1</td>\n",
              "      <td>1</td>\n",
              "      <td>0.26</td>\n",
              "      <td>0.2576</td>\n",
              "      <td>0.60</td>\n",
              "      <td>0.1642</td>\n",
              "      <td>7</td>\n",
              "      <td>83</td>\n",
              "      <td>90</td>\n",
              "    </tr>\n",
              "    <tr>\n",
              "      <th>17377</th>\n",
              "      <td>17378</td>\n",
              "      <td>2012-12-31</td>\n",
              "      <td>1</td>\n",
              "      <td>1</td>\n",
              "      <td>12</td>\n",
              "      <td>22</td>\n",
              "      <td>0</td>\n",
              "      <td>1</td>\n",
              "      <td>1</td>\n",
              "      <td>1</td>\n",
              "      <td>0.26</td>\n",
              "      <td>0.2727</td>\n",
              "      <td>0.56</td>\n",
              "      <td>0.1343</td>\n",
              "      <td>13</td>\n",
              "      <td>48</td>\n",
              "      <td>61</td>\n",
              "    </tr>\n",
              "    <tr>\n",
              "      <th>17378</th>\n",
              "      <td>17379</td>\n",
              "      <td>2012-12-31</td>\n",
              "      <td>1</td>\n",
              "      <td>1</td>\n",
              "      <td>12</td>\n",
              "      <td>23</td>\n",
              "      <td>0</td>\n",
              "      <td>1</td>\n",
              "      <td>1</td>\n",
              "      <td>1</td>\n",
              "      <td>0.26</td>\n",
              "      <td>0.2727</td>\n",
              "      <td>0.65</td>\n",
              "      <td>0.1343</td>\n",
              "      <td>12</td>\n",
              "      <td>37</td>\n",
              "      <td>49</td>\n",
              "    </tr>\n",
              "  </tbody>\n",
              "</table>\n",
              "<p>17379 rows × 17 columns</p>\n",
              "</div>"
            ],
            "text/plain": [
              "       instant      dteday  season  yr  mnth  hr  holiday  weekday  \\\n",
              "0            1  2011-01-01       1   0     1   0        0        6   \n",
              "1            2  2011-01-01       1   0     1   1        0        6   \n",
              "2            3  2011-01-01       1   0     1   2        0        6   \n",
              "3            4  2011-01-01       1   0     1   3        0        6   \n",
              "4            5  2011-01-01       1   0     1   4        0        6   \n",
              "...        ...         ...     ...  ..   ...  ..      ...      ...   \n",
              "17374    17375  2012-12-31       1   1    12  19        0        1   \n",
              "17375    17376  2012-12-31       1   1    12  20        0        1   \n",
              "17376    17377  2012-12-31       1   1    12  21        0        1   \n",
              "17377    17378  2012-12-31       1   1    12  22        0        1   \n",
              "17378    17379  2012-12-31       1   1    12  23        0        1   \n",
              "\n",
              "       workingday  weathersit  temp   atemp   hum  windspeed  casual  \\\n",
              "0               0           1  0.24  0.2879  0.81     0.0000       3   \n",
              "1               0           1  0.22  0.2727  0.80     0.0000       8   \n",
              "2               0           1  0.22  0.2727  0.80     0.0000       5   \n",
              "3               0           1  0.24  0.2879  0.75     0.0000       3   \n",
              "4               0           1  0.24  0.2879  0.75     0.0000       0   \n",
              "...           ...         ...   ...     ...   ...        ...     ...   \n",
              "17374           1           2  0.26  0.2576  0.60     0.1642      11   \n",
              "17375           1           2  0.26  0.2576  0.60     0.1642       8   \n",
              "17376           1           1  0.26  0.2576  0.60     0.1642       7   \n",
              "17377           1           1  0.26  0.2727  0.56     0.1343      13   \n",
              "17378           1           1  0.26  0.2727  0.65     0.1343      12   \n",
              "\n",
              "       registered  cnt  \n",
              "0              13   16  \n",
              "1              32   40  \n",
              "2              27   32  \n",
              "3              10   13  \n",
              "4               1    1  \n",
              "...           ...  ...  \n",
              "17374         108  119  \n",
              "17375          81   89  \n",
              "17376          83   90  \n",
              "17377          48   61  \n",
              "17378          37   49  \n",
              "\n",
              "[17379 rows x 17 columns]"
            ]
          },
          "execution_count": 101,
          "metadata": {},
          "output_type": "execute_result"
        }
      ],
      "source": [
        "#memuat tabel hour_df\n",
        "hour_df= pd.read_csv(\"C:/Users/Lenovo/Downloads/Bike-sharing-dataset/hour.csv\")\n",
        "hour_df"
      ]
    },
    {
      "cell_type": "markdown",
      "metadata": {
        "id": "MMi6xGaDkbCi"
      },
      "source": [
        "**Insight:**\n",
        "- Kode di atas akan menampilkan 5 baris pertama dari DataFrame hour_df.\n",
        "- Dataset ini berisi informasi peminjaman sepeda per jam berdasarkan faktor cuaca, musim, hari kerja, dan kondisi lingkungan.\n",
        "- Dapat dilihat dataframe tersebut terdiri dari 17379 baris dan 17 kolom dan berbagai variabel.\n",
        "- Terdapat data yang bisa memberikan Pola peminjaman bervariasi berdasarkan jam, hari, dan musim, dll."
      ]
    },
    {
      "cell_type": "markdown",
      "metadata": {
        "id": "FHSiqaZp8DC1"
      },
      "source": [
        "### Assessing Data"
      ]
    },
    {
      "cell_type": "code",
      "execution_count": 102,
      "metadata": {
        "id": "ax-3tEjc9Cj1"
      },
      "outputs": [
        {
          "name": "stdout",
          "output_type": "stream",
          "text": [
            "<class 'pandas.core.frame.DataFrame'>\n",
            "RangeIndex: 17379 entries, 0 to 17378\n",
            "Data columns (total 17 columns):\n",
            " #   Column      Non-Null Count  Dtype  \n",
            "---  ------      --------------  -----  \n",
            " 0   instant     17379 non-null  int64  \n",
            " 1   dteday      17379 non-null  object \n",
            " 2   season      17379 non-null  int64  \n",
            " 3   yr          17379 non-null  int64  \n",
            " 4   mnth        17379 non-null  int64  \n",
            " 5   hr          17379 non-null  int64  \n",
            " 6   holiday     17379 non-null  int64  \n",
            " 7   weekday     17379 non-null  int64  \n",
            " 8   workingday  17379 non-null  int64  \n",
            " 9   weathersit  17379 non-null  int64  \n",
            " 10  temp        17379 non-null  float64\n",
            " 11  atemp       17379 non-null  float64\n",
            " 12  hum         17379 non-null  float64\n",
            " 13  windspeed   17379 non-null  float64\n",
            " 14  casual      17379 non-null  int64  \n",
            " 15  registered  17379 non-null  int64  \n",
            " 16  cnt         17379 non-null  int64  \n",
            "dtypes: float64(4), int64(12), object(1)\n",
            "memory usage: 2.3+ MB\n"
          ]
        }
      ],
      "source": [
        "#Menilai Data hour_df\n",
        "hour_df.info()"
      ]
    },
    {
      "cell_type": "markdown",
      "metadata": {
        "id": "7dtxhAPrkhPL"
      },
      "source": [
        "**Insight:**\n",
        "- Berdasarkan keluaran di atas, dapat dilihat dataset ini terdiri dari 17379 baris dan 17 variabel yang memiliki tipe data yang beragam.\n",
        "- Tidak terdapat perbedaan pada jumlah data artinya tidak terdapat missing value.\n",
        "Tipe data yang harus diperbaiki:\n",
        "- Kolom dteday seharusnya dalam format datetime bukan object.\n",
        "- Kolom season, yr, mnth, hr, holiday, weekday, workingday, weathersit seharusnya dalam format kategori bukan Integer.\n",
        "\n",
        "Hal ini akan kita tangani pada tahap data cleaning nanti."
      ]
    },
    {
      "cell_type": "code",
      "execution_count": 103,
      "metadata": {},
      "outputs": [
        {
          "data": {
            "text/plain": [
              "instant       0\n",
              "dteday        0\n",
              "season        0\n",
              "yr            0\n",
              "mnth          0\n",
              "hr            0\n",
              "holiday       0\n",
              "weekday       0\n",
              "workingday    0\n",
              "weathersit    0\n",
              "temp          0\n",
              "atemp         0\n",
              "hum           0\n",
              "windspeed     0\n",
              "casual        0\n",
              "registered    0\n",
              "cnt           0\n",
              "dtype: int64"
            ]
          },
          "execution_count": 103,
          "metadata": {},
          "output_type": "execute_result"
        }
      ],
      "source": [
        "#Mengecek data kosong pada dataset\n",
        "hour_df.isna().sum()"
      ]
    },
    {
      "cell_type": "markdown",
      "metadata": {},
      "source": [
        "**Insight:**\n",
        "Keluaran di atas menunjukkan bahwa tidak terdapat missing values pada dataset."
      ]
    },
    {
      "cell_type": "code",
      "execution_count": 104,
      "metadata": {},
      "outputs": [
        {
          "name": "stdout",
          "output_type": "stream",
          "text": [
            "Jumlah duplikasi:  0\n"
          ]
        }
      ],
      "source": [
        "#Mengecek duplikasi data\n",
        "print(\"Jumlah duplikasi: \", hour_df.duplicated().sum())"
      ]
    },
    {
      "cell_type": "markdown",
      "metadata": {},
      "source": [
        "**Insight:**\n",
        "Kita menemukan bahwa tidak terdapat data yang terduplikat."
      ]
    },
    {
      "cell_type": "code",
      "execution_count": 105,
      "metadata": {},
      "outputs": [
        {
          "data": {
            "text/html": [
              "<div>\n",
              "<style scoped>\n",
              "    .dataframe tbody tr th:only-of-type {\n",
              "        vertical-align: middle;\n",
              "    }\n",
              "\n",
              "    .dataframe tbody tr th {\n",
              "        vertical-align: top;\n",
              "    }\n",
              "\n",
              "    .dataframe thead th {\n",
              "        text-align: right;\n",
              "    }\n",
              "</style>\n",
              "<table border=\"1\" class=\"dataframe\">\n",
              "  <thead>\n",
              "    <tr style=\"text-align: right;\">\n",
              "      <th></th>\n",
              "      <th>instant</th>\n",
              "      <th>season</th>\n",
              "      <th>yr</th>\n",
              "      <th>mnth</th>\n",
              "      <th>hr</th>\n",
              "      <th>holiday</th>\n",
              "      <th>weekday</th>\n",
              "      <th>workingday</th>\n",
              "      <th>weathersit</th>\n",
              "      <th>temp</th>\n",
              "      <th>atemp</th>\n",
              "      <th>hum</th>\n",
              "      <th>windspeed</th>\n",
              "      <th>casual</th>\n",
              "      <th>registered</th>\n",
              "      <th>cnt</th>\n",
              "    </tr>\n",
              "  </thead>\n",
              "  <tbody>\n",
              "    <tr>\n",
              "      <th>count</th>\n",
              "      <td>17379.0000</td>\n",
              "      <td>17379.000000</td>\n",
              "      <td>17379.000000</td>\n",
              "      <td>17379.000000</td>\n",
              "      <td>17379.000000</td>\n",
              "      <td>17379.000000</td>\n",
              "      <td>17379.000000</td>\n",
              "      <td>17379.000000</td>\n",
              "      <td>17379.000000</td>\n",
              "      <td>17379.000000</td>\n",
              "      <td>17379.000000</td>\n",
              "      <td>17379.000000</td>\n",
              "      <td>17379.000000</td>\n",
              "      <td>17379.000000</td>\n",
              "      <td>17379.000000</td>\n",
              "      <td>17379.000000</td>\n",
              "    </tr>\n",
              "    <tr>\n",
              "      <th>mean</th>\n",
              "      <td>8690.0000</td>\n",
              "      <td>2.501640</td>\n",
              "      <td>0.502561</td>\n",
              "      <td>6.537775</td>\n",
              "      <td>11.546752</td>\n",
              "      <td>0.028770</td>\n",
              "      <td>3.003683</td>\n",
              "      <td>0.682721</td>\n",
              "      <td>1.425283</td>\n",
              "      <td>0.496987</td>\n",
              "      <td>0.475775</td>\n",
              "      <td>0.627229</td>\n",
              "      <td>0.190098</td>\n",
              "      <td>35.676218</td>\n",
              "      <td>153.786869</td>\n",
              "      <td>189.463088</td>\n",
              "    </tr>\n",
              "    <tr>\n",
              "      <th>std</th>\n",
              "      <td>5017.0295</td>\n",
              "      <td>1.106918</td>\n",
              "      <td>0.500008</td>\n",
              "      <td>3.438776</td>\n",
              "      <td>6.914405</td>\n",
              "      <td>0.167165</td>\n",
              "      <td>2.005771</td>\n",
              "      <td>0.465431</td>\n",
              "      <td>0.639357</td>\n",
              "      <td>0.192556</td>\n",
              "      <td>0.171850</td>\n",
              "      <td>0.192930</td>\n",
              "      <td>0.122340</td>\n",
              "      <td>49.305030</td>\n",
              "      <td>151.357286</td>\n",
              "      <td>181.387599</td>\n",
              "    </tr>\n",
              "    <tr>\n",
              "      <th>min</th>\n",
              "      <td>1.0000</td>\n",
              "      <td>1.000000</td>\n",
              "      <td>0.000000</td>\n",
              "      <td>1.000000</td>\n",
              "      <td>0.000000</td>\n",
              "      <td>0.000000</td>\n",
              "      <td>0.000000</td>\n",
              "      <td>0.000000</td>\n",
              "      <td>1.000000</td>\n",
              "      <td>0.020000</td>\n",
              "      <td>0.000000</td>\n",
              "      <td>0.000000</td>\n",
              "      <td>0.000000</td>\n",
              "      <td>0.000000</td>\n",
              "      <td>0.000000</td>\n",
              "      <td>1.000000</td>\n",
              "    </tr>\n",
              "    <tr>\n",
              "      <th>25%</th>\n",
              "      <td>4345.5000</td>\n",
              "      <td>2.000000</td>\n",
              "      <td>0.000000</td>\n",
              "      <td>4.000000</td>\n",
              "      <td>6.000000</td>\n",
              "      <td>0.000000</td>\n",
              "      <td>1.000000</td>\n",
              "      <td>0.000000</td>\n",
              "      <td>1.000000</td>\n",
              "      <td>0.340000</td>\n",
              "      <td>0.333300</td>\n",
              "      <td>0.480000</td>\n",
              "      <td>0.104500</td>\n",
              "      <td>4.000000</td>\n",
              "      <td>34.000000</td>\n",
              "      <td>40.000000</td>\n",
              "    </tr>\n",
              "    <tr>\n",
              "      <th>50%</th>\n",
              "      <td>8690.0000</td>\n",
              "      <td>3.000000</td>\n",
              "      <td>1.000000</td>\n",
              "      <td>7.000000</td>\n",
              "      <td>12.000000</td>\n",
              "      <td>0.000000</td>\n",
              "      <td>3.000000</td>\n",
              "      <td>1.000000</td>\n",
              "      <td>1.000000</td>\n",
              "      <td>0.500000</td>\n",
              "      <td>0.484800</td>\n",
              "      <td>0.630000</td>\n",
              "      <td>0.194000</td>\n",
              "      <td>17.000000</td>\n",
              "      <td>115.000000</td>\n",
              "      <td>142.000000</td>\n",
              "    </tr>\n",
              "    <tr>\n",
              "      <th>75%</th>\n",
              "      <td>13034.5000</td>\n",
              "      <td>3.000000</td>\n",
              "      <td>1.000000</td>\n",
              "      <td>10.000000</td>\n",
              "      <td>18.000000</td>\n",
              "      <td>0.000000</td>\n",
              "      <td>5.000000</td>\n",
              "      <td>1.000000</td>\n",
              "      <td>2.000000</td>\n",
              "      <td>0.660000</td>\n",
              "      <td>0.621200</td>\n",
              "      <td>0.780000</td>\n",
              "      <td>0.253700</td>\n",
              "      <td>48.000000</td>\n",
              "      <td>220.000000</td>\n",
              "      <td>281.000000</td>\n",
              "    </tr>\n",
              "    <tr>\n",
              "      <th>max</th>\n",
              "      <td>17379.0000</td>\n",
              "      <td>4.000000</td>\n",
              "      <td>1.000000</td>\n",
              "      <td>12.000000</td>\n",
              "      <td>23.000000</td>\n",
              "      <td>1.000000</td>\n",
              "      <td>6.000000</td>\n",
              "      <td>1.000000</td>\n",
              "      <td>4.000000</td>\n",
              "      <td>1.000000</td>\n",
              "      <td>1.000000</td>\n",
              "      <td>1.000000</td>\n",
              "      <td>0.850700</td>\n",
              "      <td>367.000000</td>\n",
              "      <td>886.000000</td>\n",
              "      <td>977.000000</td>\n",
              "    </tr>\n",
              "  </tbody>\n",
              "</table>\n",
              "</div>"
            ],
            "text/plain": [
              "          instant        season            yr          mnth            hr  \\\n",
              "count  17379.0000  17379.000000  17379.000000  17379.000000  17379.000000   \n",
              "mean    8690.0000      2.501640      0.502561      6.537775     11.546752   \n",
              "std     5017.0295      1.106918      0.500008      3.438776      6.914405   \n",
              "min        1.0000      1.000000      0.000000      1.000000      0.000000   \n",
              "25%     4345.5000      2.000000      0.000000      4.000000      6.000000   \n",
              "50%     8690.0000      3.000000      1.000000      7.000000     12.000000   \n",
              "75%    13034.5000      3.000000      1.000000     10.000000     18.000000   \n",
              "max    17379.0000      4.000000      1.000000     12.000000     23.000000   \n",
              "\n",
              "            holiday       weekday    workingday    weathersit          temp  \\\n",
              "count  17379.000000  17379.000000  17379.000000  17379.000000  17379.000000   \n",
              "mean       0.028770      3.003683      0.682721      1.425283      0.496987   \n",
              "std        0.167165      2.005771      0.465431      0.639357      0.192556   \n",
              "min        0.000000      0.000000      0.000000      1.000000      0.020000   \n",
              "25%        0.000000      1.000000      0.000000      1.000000      0.340000   \n",
              "50%        0.000000      3.000000      1.000000      1.000000      0.500000   \n",
              "75%        0.000000      5.000000      1.000000      2.000000      0.660000   \n",
              "max        1.000000      6.000000      1.000000      4.000000      1.000000   \n",
              "\n",
              "              atemp           hum     windspeed        casual    registered  \\\n",
              "count  17379.000000  17379.000000  17379.000000  17379.000000  17379.000000   \n",
              "mean       0.475775      0.627229      0.190098     35.676218    153.786869   \n",
              "std        0.171850      0.192930      0.122340     49.305030    151.357286   \n",
              "min        0.000000      0.000000      0.000000      0.000000      0.000000   \n",
              "25%        0.333300      0.480000      0.104500      4.000000     34.000000   \n",
              "50%        0.484800      0.630000      0.194000     17.000000    115.000000   \n",
              "75%        0.621200      0.780000      0.253700     48.000000    220.000000   \n",
              "max        1.000000      1.000000      0.850700    367.000000    886.000000   \n",
              "\n",
              "                cnt  \n",
              "count  17379.000000  \n",
              "mean     189.463088  \n",
              "std      181.387599  \n",
              "min        1.000000  \n",
              "25%       40.000000  \n",
              "50%      142.000000  \n",
              "75%      281.000000  \n",
              "max      977.000000  "
            ]
          },
          "execution_count": 105,
          "metadata": {},
          "output_type": "execute_result"
        }
      ],
      "source": [
        "#ringkasan statistik\n",
        "hour_df.describe()"
      ]
    },
    {
      "cell_type": "markdown",
      "metadata": {},
      "source": [
        "**Insight:**\n",
        "Tidak terdapat keanehan pada nilai maksimum artinya tidak terdapat inaccurate value pada kolom tersebut."
      ]
    },
    {
      "cell_type": "markdown",
      "metadata": {
        "id": "EhN5R4hr8DC1"
      },
      "source": [
        "### Cleaning Data"
      ]
    },
    {
      "cell_type": "code",
      "execution_count": 106,
      "metadata": {},
      "outputs": [
        {
          "data": {
            "text/plain": [
              "array(['2011-01-01', '2011-01-02', '2011-01-03', '2011-01-04',\n",
              "       '2011-01-05', '2011-01-06', '2011-01-07', '2011-01-08',\n",
              "       '2011-01-09', '2011-01-10', '2011-01-11', '2011-01-12',\n",
              "       '2011-01-13', '2011-01-14', '2011-01-15', '2011-01-16',\n",
              "       '2011-01-17', '2011-01-18', '2011-01-19', '2011-01-20',\n",
              "       '2011-01-21', '2011-01-22', '2011-01-23', '2011-01-24',\n",
              "       '2011-01-25', '2011-01-26', '2011-01-27', '2011-01-28',\n",
              "       '2011-01-29', '2011-01-30', '2011-01-31', '2011-02-01',\n",
              "       '2011-02-02', '2011-02-03', '2011-02-04', '2011-02-05',\n",
              "       '2011-02-06', '2011-02-07', '2011-02-08', '2011-02-09',\n",
              "       '2011-02-10', '2011-02-11', '2011-02-12', '2011-02-13',\n",
              "       '2011-02-14', '2011-02-15', '2011-02-16', '2011-02-17',\n",
              "       '2011-02-18', '2011-02-19', '2011-02-20', '2011-02-21',\n",
              "       '2011-02-22', '2011-02-23', '2011-02-24', '2011-02-25',\n",
              "       '2011-02-26', '2011-02-27', '2011-02-28', '2011-03-01',\n",
              "       '2011-03-02', '2011-03-03', '2011-03-04', '2011-03-05',\n",
              "       '2011-03-06', '2011-03-07', '2011-03-08', '2011-03-09',\n",
              "       '2011-03-10', '2011-03-11', '2011-03-12', '2011-03-13',\n",
              "       '2011-03-14', '2011-03-15', '2011-03-16', '2011-03-17',\n",
              "       '2011-03-18', '2011-03-19', '2011-03-20', '2011-03-21',\n",
              "       '2011-03-22', '2011-03-23', '2011-03-24', '2011-03-25',\n",
              "       '2011-03-26', '2011-03-27', '2011-03-28', '2011-03-29',\n",
              "       '2011-03-30', '2011-03-31', '2011-04-01', '2011-04-02',\n",
              "       '2011-04-03', '2011-04-04', '2011-04-05', '2011-04-06',\n",
              "       '2011-04-07', '2011-04-08', '2011-04-09', '2011-04-10',\n",
              "       '2011-04-11', '2011-04-12', '2011-04-13', '2011-04-14',\n",
              "       '2011-04-15', '2011-04-16', '2011-04-17', '2011-04-18',\n",
              "       '2011-04-19', '2011-04-20', '2011-04-21', '2011-04-22',\n",
              "       '2011-04-23', '2011-04-24', '2011-04-25', '2011-04-26',\n",
              "       '2011-04-27', '2011-04-28', '2011-04-29', '2011-04-30',\n",
              "       '2011-05-01', '2011-05-02', '2011-05-03', '2011-05-04',\n",
              "       '2011-05-05', '2011-05-06', '2011-05-07', '2011-05-08',\n",
              "       '2011-05-09', '2011-05-10', '2011-05-11', '2011-05-12',\n",
              "       '2011-05-13', '2011-05-14', '2011-05-15', '2011-05-16',\n",
              "       '2011-05-17', '2011-05-18', '2011-05-19', '2011-05-20',\n",
              "       '2011-05-21', '2011-05-22', '2011-05-23', '2011-05-24',\n",
              "       '2011-05-25', '2011-05-26', '2011-05-27', '2011-05-28',\n",
              "       '2011-05-29', '2011-05-30', '2011-05-31', '2011-06-01',\n",
              "       '2011-06-02', '2011-06-03', '2011-06-04', '2011-06-05',\n",
              "       '2011-06-06', '2011-06-07', '2011-06-08', '2011-06-09',\n",
              "       '2011-06-10', '2011-06-11', '2011-06-12', '2011-06-13',\n",
              "       '2011-06-14', '2011-06-15', '2011-06-16', '2011-06-17',\n",
              "       '2011-06-18', '2011-06-19', '2011-06-20', '2011-06-21',\n",
              "       '2011-06-22', '2011-06-23', '2011-06-24', '2011-06-25',\n",
              "       '2011-06-26', '2011-06-27', '2011-06-28', '2011-06-29',\n",
              "       '2011-06-30', '2011-07-01', '2011-07-02', '2011-07-03',\n",
              "       '2011-07-04', '2011-07-05', '2011-07-06', '2011-07-07',\n",
              "       '2011-07-08', '2011-07-09', '2011-07-10', '2011-07-11',\n",
              "       '2011-07-12', '2011-07-13', '2011-07-14', '2011-07-15',\n",
              "       '2011-07-16', '2011-07-17', '2011-07-18', '2011-07-19',\n",
              "       '2011-07-20', '2011-07-21', '2011-07-22', '2011-07-23',\n",
              "       '2011-07-24', '2011-07-25', '2011-07-26', '2011-07-27',\n",
              "       '2011-07-28', '2011-07-29', '2011-07-30', '2011-07-31',\n",
              "       '2011-08-01', '2011-08-02', '2011-08-03', '2011-08-04',\n",
              "       '2011-08-05', '2011-08-06', '2011-08-07', '2011-08-08',\n",
              "       '2011-08-09', '2011-08-10', '2011-08-11', '2011-08-12',\n",
              "       '2011-08-13', '2011-08-14', '2011-08-15', '2011-08-16',\n",
              "       '2011-08-17', '2011-08-18', '2011-08-19', '2011-08-20',\n",
              "       '2011-08-21', '2011-08-22', '2011-08-23', '2011-08-24',\n",
              "       '2011-08-25', '2011-08-26', '2011-08-27', '2011-08-28',\n",
              "       '2011-08-29', '2011-08-30', '2011-08-31', '2011-09-01',\n",
              "       '2011-09-02', '2011-09-03', '2011-09-04', '2011-09-05',\n",
              "       '2011-09-06', '2011-09-07', '2011-09-08', '2011-09-09',\n",
              "       '2011-09-10', '2011-09-11', '2011-09-12', '2011-09-13',\n",
              "       '2011-09-14', '2011-09-15', '2011-09-16', '2011-09-17',\n",
              "       '2011-09-18', '2011-09-19', '2011-09-20', '2011-09-21',\n",
              "       '2011-09-22', '2011-09-23', '2011-09-24', '2011-09-25',\n",
              "       '2011-09-26', '2011-09-27', '2011-09-28', '2011-09-29',\n",
              "       '2011-09-30', '2011-10-01', '2011-10-02', '2011-10-03',\n",
              "       '2011-10-04', '2011-10-05', '2011-10-06', '2011-10-07',\n",
              "       '2011-10-08', '2011-10-09', '2011-10-10', '2011-10-11',\n",
              "       '2011-10-12', '2011-10-13', '2011-10-14', '2011-10-15',\n",
              "       '2011-10-16', '2011-10-17', '2011-10-18', '2011-10-19',\n",
              "       '2011-10-20', '2011-10-21', '2011-10-22', '2011-10-23',\n",
              "       '2011-10-24', '2011-10-25', '2011-10-26', '2011-10-27',\n",
              "       '2011-10-28', '2011-10-29', '2011-10-30', '2011-10-31',\n",
              "       '2011-11-01', '2011-11-02', '2011-11-03', '2011-11-04',\n",
              "       '2011-11-05', '2011-11-06', '2011-11-07', '2011-11-08',\n",
              "       '2011-11-09', '2011-11-10', '2011-11-11', '2011-11-12',\n",
              "       '2011-11-13', '2011-11-14', '2011-11-15', '2011-11-16',\n",
              "       '2011-11-17', '2011-11-18', '2011-11-19', '2011-11-20',\n",
              "       '2011-11-21', '2011-11-22', '2011-11-23', '2011-11-24',\n",
              "       '2011-11-25', '2011-11-26', '2011-11-27', '2011-11-28',\n",
              "       '2011-11-29', '2011-11-30', '2011-12-01', '2011-12-02',\n",
              "       '2011-12-03', '2011-12-04', '2011-12-05', '2011-12-06',\n",
              "       '2011-12-07', '2011-12-08', '2011-12-09', '2011-12-10',\n",
              "       '2011-12-11', '2011-12-12', '2011-12-13', '2011-12-14',\n",
              "       '2011-12-15', '2011-12-16', '2011-12-17', '2011-12-18',\n",
              "       '2011-12-19', '2011-12-20', '2011-12-21', '2011-12-22',\n",
              "       '2011-12-23', '2011-12-24', '2011-12-25', '2011-12-26',\n",
              "       '2011-12-27', '2011-12-28', '2011-12-29', '2011-12-30',\n",
              "       '2011-12-31', '2012-01-01', '2012-01-02', '2012-01-03',\n",
              "       '2012-01-04', '2012-01-05', '2012-01-06', '2012-01-07',\n",
              "       '2012-01-08', '2012-01-09', '2012-01-10', '2012-01-11',\n",
              "       '2012-01-12', '2012-01-13', '2012-01-14', '2012-01-15',\n",
              "       '2012-01-16', '2012-01-17', '2012-01-18', '2012-01-19',\n",
              "       '2012-01-20', '2012-01-21', '2012-01-22', '2012-01-23',\n",
              "       '2012-01-24', '2012-01-25', '2012-01-26', '2012-01-27',\n",
              "       '2012-01-28', '2012-01-29', '2012-01-30', '2012-01-31',\n",
              "       '2012-02-01', '2012-02-02', '2012-02-03', '2012-02-04',\n",
              "       '2012-02-05', '2012-02-06', '2012-02-07', '2012-02-08',\n",
              "       '2012-02-09', '2012-02-10', '2012-02-11', '2012-02-12',\n",
              "       '2012-02-13', '2012-02-14', '2012-02-15', '2012-02-16',\n",
              "       '2012-02-17', '2012-02-18', '2012-02-19', '2012-02-20',\n",
              "       '2012-02-21', '2012-02-22', '2012-02-23', '2012-02-24',\n",
              "       '2012-02-25', '2012-02-26', '2012-02-27', '2012-02-28',\n",
              "       '2012-02-29', '2012-03-01', '2012-03-02', '2012-03-03',\n",
              "       '2012-03-04', '2012-03-05', '2012-03-06', '2012-03-07',\n",
              "       '2012-03-08', '2012-03-09', '2012-03-10', '2012-03-11',\n",
              "       '2012-03-12', '2012-03-13', '2012-03-14', '2012-03-15',\n",
              "       '2012-03-16', '2012-03-17', '2012-03-18', '2012-03-19',\n",
              "       '2012-03-20', '2012-03-21', '2012-03-22', '2012-03-23',\n",
              "       '2012-03-24', '2012-03-25', '2012-03-26', '2012-03-27',\n",
              "       '2012-03-28', '2012-03-29', '2012-03-30', '2012-03-31',\n",
              "       '2012-04-01', '2012-04-02', '2012-04-03', '2012-04-04',\n",
              "       '2012-04-05', '2012-04-06', '2012-04-07', '2012-04-08',\n",
              "       '2012-04-09', '2012-04-10', '2012-04-11', '2012-04-12',\n",
              "       '2012-04-13', '2012-04-14', '2012-04-15', '2012-04-16',\n",
              "       '2012-04-17', '2012-04-18', '2012-04-19', '2012-04-20',\n",
              "       '2012-04-21', '2012-04-22', '2012-04-23', '2012-04-24',\n",
              "       '2012-04-25', '2012-04-26', '2012-04-27', '2012-04-28',\n",
              "       '2012-04-29', '2012-04-30', '2012-05-01', '2012-05-02',\n",
              "       '2012-05-03', '2012-05-04', '2012-05-05', '2012-05-06',\n",
              "       '2012-05-07', '2012-05-08', '2012-05-09', '2012-05-10',\n",
              "       '2012-05-11', '2012-05-12', '2012-05-13', '2012-05-14',\n",
              "       '2012-05-15', '2012-05-16', '2012-05-17', '2012-05-18',\n",
              "       '2012-05-19', '2012-05-20', '2012-05-21', '2012-05-22',\n",
              "       '2012-05-23', '2012-05-24', '2012-05-25', '2012-05-26',\n",
              "       '2012-05-27', '2012-05-28', '2012-05-29', '2012-05-30',\n",
              "       '2012-05-31', '2012-06-01', '2012-06-02', '2012-06-03',\n",
              "       '2012-06-04', '2012-06-05', '2012-06-06', '2012-06-07',\n",
              "       '2012-06-08', '2012-06-09', '2012-06-10', '2012-06-11',\n",
              "       '2012-06-12', '2012-06-13', '2012-06-14', '2012-06-15',\n",
              "       '2012-06-16', '2012-06-17', '2012-06-18', '2012-06-19',\n",
              "       '2012-06-20', '2012-06-21', '2012-06-22', '2012-06-23',\n",
              "       '2012-06-24', '2012-06-25', '2012-06-26', '2012-06-27',\n",
              "       '2012-06-28', '2012-06-29', '2012-06-30', '2012-07-01',\n",
              "       '2012-07-02', '2012-07-03', '2012-07-04', '2012-07-05',\n",
              "       '2012-07-06', '2012-07-07', '2012-07-08', '2012-07-09',\n",
              "       '2012-07-10', '2012-07-11', '2012-07-12', '2012-07-13',\n",
              "       '2012-07-14', '2012-07-15', '2012-07-16', '2012-07-17',\n",
              "       '2012-07-18', '2012-07-19', '2012-07-20', '2012-07-21',\n",
              "       '2012-07-22', '2012-07-23', '2012-07-24', '2012-07-25',\n",
              "       '2012-07-26', '2012-07-27', '2012-07-28', '2012-07-29',\n",
              "       '2012-07-30', '2012-07-31', '2012-08-01', '2012-08-02',\n",
              "       '2012-08-03', '2012-08-04', '2012-08-05', '2012-08-06',\n",
              "       '2012-08-07', '2012-08-08', '2012-08-09', '2012-08-10',\n",
              "       '2012-08-11', '2012-08-12', '2012-08-13', '2012-08-14',\n",
              "       '2012-08-15', '2012-08-16', '2012-08-17', '2012-08-18',\n",
              "       '2012-08-19', '2012-08-20', '2012-08-21', '2012-08-22',\n",
              "       '2012-08-23', '2012-08-24', '2012-08-25', '2012-08-26',\n",
              "       '2012-08-27', '2012-08-28', '2012-08-29', '2012-08-30',\n",
              "       '2012-08-31', '2012-09-01', '2012-09-02', '2012-09-03',\n",
              "       '2012-09-04', '2012-09-05', '2012-09-06', '2012-09-07',\n",
              "       '2012-09-08', '2012-09-09', '2012-09-10', '2012-09-11',\n",
              "       '2012-09-12', '2012-09-13', '2012-09-14', '2012-09-15',\n",
              "       '2012-09-16', '2012-09-17', '2012-09-18', '2012-09-19',\n",
              "       '2012-09-20', '2012-09-21', '2012-09-22', '2012-09-23',\n",
              "       '2012-09-24', '2012-09-25', '2012-09-26', '2012-09-27',\n",
              "       '2012-09-28', '2012-09-29', '2012-09-30', '2012-10-01',\n",
              "       '2012-10-02', '2012-10-03', '2012-10-04', '2012-10-05',\n",
              "       '2012-10-06', '2012-10-07', '2012-10-08', '2012-10-09',\n",
              "       '2012-10-10', '2012-10-11', '2012-10-12', '2012-10-13',\n",
              "       '2012-10-14', '2012-10-15', '2012-10-16', '2012-10-17',\n",
              "       '2012-10-18', '2012-10-19', '2012-10-20', '2012-10-21',\n",
              "       '2012-10-22', '2012-10-23', '2012-10-24', '2012-10-25',\n",
              "       '2012-10-26', '2012-10-27', '2012-10-28', '2012-10-29',\n",
              "       '2012-10-30', '2012-10-31', '2012-11-01', '2012-11-02',\n",
              "       '2012-11-03', '2012-11-04', '2012-11-05', '2012-11-06',\n",
              "       '2012-11-07', '2012-11-08', '2012-11-09', '2012-11-10',\n",
              "       '2012-11-11', '2012-11-12', '2012-11-13', '2012-11-14',\n",
              "       '2012-11-15', '2012-11-16', '2012-11-17', '2012-11-18',\n",
              "       '2012-11-19', '2012-11-20', '2012-11-21', '2012-11-22',\n",
              "       '2012-11-23', '2012-11-24', '2012-11-25', '2012-11-26',\n",
              "       '2012-11-27', '2012-11-28', '2012-11-29', '2012-11-30',\n",
              "       '2012-12-01', '2012-12-02', '2012-12-03', '2012-12-04',\n",
              "       '2012-12-05', '2012-12-06', '2012-12-07', '2012-12-08',\n",
              "       '2012-12-09', '2012-12-10', '2012-12-11', '2012-12-12',\n",
              "       '2012-12-13', '2012-12-14', '2012-12-15', '2012-12-16',\n",
              "       '2012-12-17', '2012-12-18', '2012-12-19', '2012-12-20',\n",
              "       '2012-12-21', '2012-12-22', '2012-12-23', '2012-12-24',\n",
              "       '2012-12-25', '2012-12-26', '2012-12-27', '2012-12-28',\n",
              "       '2012-12-29', '2012-12-30', '2012-12-31'], dtype=object)"
            ]
          },
          "execution_count": 106,
          "metadata": {},
          "output_type": "execute_result"
        }
      ],
      "source": [
        "hour_df[\"dteday\"].unique()"
      ]
    },
    {
      "cell_type": "code",
      "execution_count": 107,
      "metadata": {
        "id": "jVnYpprE9Evz"
      },
      "outputs": [],
      "source": [
        "#Mengubah tipe data 'dteday'\n",
        "hour_df['dteday'] = pd.to_datetime(hour_df['dteday'])"
      ]
    },
    {
      "cell_type": "code",
      "execution_count": 108,
      "metadata": {},
      "outputs": [
        {
          "data": {
            "text/plain": [
              "array([1, 2, 3, 4])"
            ]
          },
          "execution_count": 108,
          "metadata": {},
          "output_type": "execute_result"
        }
      ],
      "source": [
        "hour_df['season'].unique()"
      ]
    },
    {
      "cell_type": "code",
      "execution_count": 109,
      "metadata": {},
      "outputs": [
        {
          "data": {
            "text/plain": [
              "array(['Spring', 'Summer', 'Fall', 'Winter'], dtype=object)"
            ]
          },
          "execution_count": 109,
          "metadata": {},
          "output_type": "execute_result"
        }
      ],
      "source": [
        "#Mengubah tipe data season\n",
        "season_dict = {1: 'Spring', 2: 'Summer', 3: 'Fall', 4: 'Winter'}\n",
        "hour_df[\"season\"] = hour_df[\"season\"].map(season_dict)\n",
        "hour_df[\"season\"].unique()"
      ]
    },
    {
      "cell_type": "code",
      "execution_count": 110,
      "metadata": {},
      "outputs": [
        {
          "data": {
            "text/plain": [
              "array([0, 1])"
            ]
          },
          "execution_count": 110,
          "metadata": {},
          "output_type": "execute_result"
        }
      ],
      "source": [
        "hour_df[\"yr\"].unique()"
      ]
    },
    {
      "cell_type": "code",
      "execution_count": 111,
      "metadata": {},
      "outputs": [
        {
          "data": {
            "text/plain": [
              "array([2011, 2012])"
            ]
          },
          "execution_count": 111,
          "metadata": {},
          "output_type": "execute_result"
        }
      ],
      "source": [
        "#Mengubah tipe data yr\n",
        "hour_df[\"yr\"] = hour_df[\"yr\"].map({0: 2011, 1: 2012})\n",
        "hour_df[\"yr\"].unique()\n"
      ]
    },
    {
      "cell_type": "code",
      "execution_count": 112,
      "metadata": {},
      "outputs": [
        {
          "data": {
            "text/plain": [
              "array([ 1,  2,  3,  4,  5,  6,  7,  8,  9, 10, 11, 12])"
            ]
          },
          "execution_count": 112,
          "metadata": {},
          "output_type": "execute_result"
        }
      ],
      "source": [
        "hour_df[\"mnth\"].unique()"
      ]
    },
    {
      "cell_type": "code",
      "execution_count": 113,
      "metadata": {},
      "outputs": [
        {
          "data": {
            "text/plain": [
              "array(['January', 'February', 'March', 'April', 'May', 'June', 'July',\n",
              "       'August', 'September', 'October', 'November', 'December'],\n",
              "      dtype=object)"
            ]
          },
          "execution_count": 113,
          "metadata": {},
          "output_type": "execute_result"
        }
      ],
      "source": [
        "#Mengubah tipe data mnth\n",
        "month_dict = {\n",
        "    1: \"January\", 2: \"February\", 3: \"March\", 4: \"April\",\n",
        "    5: \"May\", 6: \"June\", 7: \"July\", 8: \"August\",\n",
        "    9: \"September\", 10: \"October\", 11: \"November\", 12: \"December\"\n",
        "}\n",
        "\n",
        "hour_df[\"mnth\"] = hour_df[\"mnth\"].map(month_dict)\n",
        "hour_df[\"mnth\"].unique()"
      ]
    },
    {
      "cell_type": "code",
      "execution_count": 114,
      "metadata": {},
      "outputs": [
        {
          "data": {
            "text/plain": [
              "array([0, 1])"
            ]
          },
          "execution_count": 114,
          "metadata": {},
          "output_type": "execute_result"
        }
      ],
      "source": [
        "hour_df[\"holiday\"].unique()"
      ]
    },
    {
      "cell_type": "code",
      "execution_count": 115,
      "metadata": {},
      "outputs": [
        {
          "data": {
            "text/plain": [
              "array(['No Holiday', 'Holiday'], dtype=object)"
            ]
          },
          "execution_count": 115,
          "metadata": {},
          "output_type": "execute_result"
        }
      ],
      "source": [
        "#Mengubah tipe data holiday\n",
        "hour_df[\"holiday\"] = hour_df[\"holiday\"].map({0: \"No Holiday\", 1: \"Holiday\"})\n",
        "hour_df[\"holiday\"].unique()\n"
      ]
    },
    {
      "cell_type": "code",
      "execution_count": 116,
      "metadata": {},
      "outputs": [
        {
          "data": {
            "text/plain": [
              "array([6, 0, 1, 2, 3, 4, 5])"
            ]
          },
          "execution_count": 116,
          "metadata": {},
          "output_type": "execute_result"
        }
      ],
      "source": [
        "hour_df[\"weekday\"].unique()"
      ]
    },
    {
      "cell_type": "code",
      "execution_count": 117,
      "metadata": {},
      "outputs": [
        {
          "data": {
            "text/plain": [
              "array(['Saturday', 'Sunday', 'Monday', 'Tuesday', 'Wednesday', 'Thursday',\n",
              "       'Friday'], dtype=object)"
            ]
          },
          "execution_count": 117,
          "metadata": {},
          "output_type": "execute_result"
        }
      ],
      "source": [
        "#Mengubah tipe data weekday\n",
        "weekday_mapping = {\n",
        "    0: \"Sunday\", 1: \"Monday\", 2: \"Tuesday\", 3: \"Wednesday\",\n",
        "    4: \"Thursday\", 5: \"Friday\", 6: \"Saturday\"\n",
        "}\n",
        "\n",
        "hour_df[\"weekday\"] = hour_df[\"weekday\"].map(weekday_mapping)\n",
        "hour_df[\"weekday\"].unique()\n"
      ]
    },
    {
      "cell_type": "code",
      "execution_count": 118,
      "metadata": {},
      "outputs": [
        {
          "data": {
            "text/plain": [
              "array([0, 1])"
            ]
          },
          "execution_count": 118,
          "metadata": {},
          "output_type": "execute_result"
        }
      ],
      "source": [
        "hour_df[\"workingday\"].unique()"
      ]
    },
    {
      "cell_type": "code",
      "execution_count": 119,
      "metadata": {},
      "outputs": [
        {
          "data": {
            "text/plain": [
              "array(['Non-Working Day', 'Working Day'], dtype=object)"
            ]
          },
          "execution_count": 119,
          "metadata": {},
          "output_type": "execute_result"
        }
      ],
      "source": [
        "#Mengubah tipe data workingday\n",
        "workingday_mapping = {0: \"Non-Working Day\", 1: \"Working Day\"}\n",
        "hour_df[\"workingday\"] = hour_df[\"workingday\"].map(workingday_mapping)\n",
        "hour_df[\"workingday\"].unique()"
      ]
    },
    {
      "cell_type": "code",
      "execution_count": 120,
      "metadata": {},
      "outputs": [
        {
          "data": {
            "text/plain": [
              "array([1, 2, 3, 4])"
            ]
          },
          "execution_count": 120,
          "metadata": {},
          "output_type": "execute_result"
        }
      ],
      "source": [
        "hour_df[\"weathersit\"].unique()"
      ]
    },
    {
      "cell_type": "code",
      "execution_count": 121,
      "metadata": {},
      "outputs": [
        {
          "data": {
            "text/plain": [
              "array(['Few Clouds', 'Cloudy', 'Rain', 'Heavy Rain'], dtype=object)"
            ]
          },
          "execution_count": 121,
          "metadata": {},
          "output_type": "execute_result"
        }
      ],
      "source": [
        "#Mengubah tipe data weathersit\n",
        "weathersit_mapping = {\n",
        "    1: \"Few Clouds\",\n",
        "    2: \"Cloudy\",\n",
        "    3: \"Rain\",\n",
        "    4: \"Heavy Rain\"\n",
        "}\n",
        "\n",
        "hour_df[\"weathersit\"] = hour_df[\"weathersit\"].map(weathersit_mapping)\n",
        "hour_df[\"weathersit\"].unique()\n"
      ]
    },
    {
      "cell_type": "code",
      "execution_count": 122,
      "metadata": {},
      "outputs": [
        {
          "data": {
            "text/html": [
              "<div>\n",
              "<style scoped>\n",
              "    .dataframe tbody tr th:only-of-type {\n",
              "        vertical-align: middle;\n",
              "    }\n",
              "\n",
              "    .dataframe tbody tr th {\n",
              "        vertical-align: top;\n",
              "    }\n",
              "\n",
              "    .dataframe thead th {\n",
              "        text-align: right;\n",
              "    }\n",
              "</style>\n",
              "<table border=\"1\" class=\"dataframe\">\n",
              "  <thead>\n",
              "    <tr style=\"text-align: right;\">\n",
              "      <th></th>\n",
              "      <th>instant</th>\n",
              "      <th>dteday</th>\n",
              "      <th>season</th>\n",
              "      <th>yr</th>\n",
              "      <th>mnth</th>\n",
              "      <th>hr</th>\n",
              "      <th>holiday</th>\n",
              "      <th>weekday</th>\n",
              "      <th>workingday</th>\n",
              "      <th>weathersit</th>\n",
              "      <th>temp</th>\n",
              "      <th>atemp</th>\n",
              "      <th>hum</th>\n",
              "      <th>windspeed</th>\n",
              "      <th>casual</th>\n",
              "      <th>registered</th>\n",
              "      <th>cnt</th>\n",
              "    </tr>\n",
              "  </thead>\n",
              "  <tbody>\n",
              "    <tr>\n",
              "      <th>0</th>\n",
              "      <td>1</td>\n",
              "      <td>2011-01-01</td>\n",
              "      <td>Spring</td>\n",
              "      <td>2011</td>\n",
              "      <td>January</td>\n",
              "      <td>0</td>\n",
              "      <td>No Holiday</td>\n",
              "      <td>Saturday</td>\n",
              "      <td>Non-Working Day</td>\n",
              "      <td>Few Clouds</td>\n",
              "      <td>0.24</td>\n",
              "      <td>0.2879</td>\n",
              "      <td>0.81</td>\n",
              "      <td>0.0</td>\n",
              "      <td>3</td>\n",
              "      <td>13</td>\n",
              "      <td>16</td>\n",
              "    </tr>\n",
              "    <tr>\n",
              "      <th>1</th>\n",
              "      <td>2</td>\n",
              "      <td>2011-01-01</td>\n",
              "      <td>Spring</td>\n",
              "      <td>2011</td>\n",
              "      <td>January</td>\n",
              "      <td>1</td>\n",
              "      <td>No Holiday</td>\n",
              "      <td>Saturday</td>\n",
              "      <td>Non-Working Day</td>\n",
              "      <td>Few Clouds</td>\n",
              "      <td>0.22</td>\n",
              "      <td>0.2727</td>\n",
              "      <td>0.80</td>\n",
              "      <td>0.0</td>\n",
              "      <td>8</td>\n",
              "      <td>32</td>\n",
              "      <td>40</td>\n",
              "    </tr>\n",
              "    <tr>\n",
              "      <th>2</th>\n",
              "      <td>3</td>\n",
              "      <td>2011-01-01</td>\n",
              "      <td>Spring</td>\n",
              "      <td>2011</td>\n",
              "      <td>January</td>\n",
              "      <td>2</td>\n",
              "      <td>No Holiday</td>\n",
              "      <td>Saturday</td>\n",
              "      <td>Non-Working Day</td>\n",
              "      <td>Few Clouds</td>\n",
              "      <td>0.22</td>\n",
              "      <td>0.2727</td>\n",
              "      <td>0.80</td>\n",
              "      <td>0.0</td>\n",
              "      <td>5</td>\n",
              "      <td>27</td>\n",
              "      <td>32</td>\n",
              "    </tr>\n",
              "    <tr>\n",
              "      <th>3</th>\n",
              "      <td>4</td>\n",
              "      <td>2011-01-01</td>\n",
              "      <td>Spring</td>\n",
              "      <td>2011</td>\n",
              "      <td>January</td>\n",
              "      <td>3</td>\n",
              "      <td>No Holiday</td>\n",
              "      <td>Saturday</td>\n",
              "      <td>Non-Working Day</td>\n",
              "      <td>Few Clouds</td>\n",
              "      <td>0.24</td>\n",
              "      <td>0.2879</td>\n",
              "      <td>0.75</td>\n",
              "      <td>0.0</td>\n",
              "      <td>3</td>\n",
              "      <td>10</td>\n",
              "      <td>13</td>\n",
              "    </tr>\n",
              "    <tr>\n",
              "      <th>4</th>\n",
              "      <td>5</td>\n",
              "      <td>2011-01-01</td>\n",
              "      <td>Spring</td>\n",
              "      <td>2011</td>\n",
              "      <td>January</td>\n",
              "      <td>4</td>\n",
              "      <td>No Holiday</td>\n",
              "      <td>Saturday</td>\n",
              "      <td>Non-Working Day</td>\n",
              "      <td>Few Clouds</td>\n",
              "      <td>0.24</td>\n",
              "      <td>0.2879</td>\n",
              "      <td>0.75</td>\n",
              "      <td>0.0</td>\n",
              "      <td>0</td>\n",
              "      <td>1</td>\n",
              "      <td>1</td>\n",
              "    </tr>\n",
              "  </tbody>\n",
              "</table>\n",
              "</div>"
            ],
            "text/plain": [
              "   instant     dteday  season    yr     mnth  hr     holiday   weekday  \\\n",
              "0        1 2011-01-01  Spring  2011  January   0  No Holiday  Saturday   \n",
              "1        2 2011-01-01  Spring  2011  January   1  No Holiday  Saturday   \n",
              "2        3 2011-01-01  Spring  2011  January   2  No Holiday  Saturday   \n",
              "3        4 2011-01-01  Spring  2011  January   3  No Holiday  Saturday   \n",
              "4        5 2011-01-01  Spring  2011  January   4  No Holiday  Saturday   \n",
              "\n",
              "        workingday  weathersit  temp   atemp   hum  windspeed  casual  \\\n",
              "0  Non-Working Day  Few Clouds  0.24  0.2879  0.81        0.0       3   \n",
              "1  Non-Working Day  Few Clouds  0.22  0.2727  0.80        0.0       8   \n",
              "2  Non-Working Day  Few Clouds  0.22  0.2727  0.80        0.0       5   \n",
              "3  Non-Working Day  Few Clouds  0.24  0.2879  0.75        0.0       3   \n",
              "4  Non-Working Day  Few Clouds  0.24  0.2879  0.75        0.0       0   \n",
              "\n",
              "   registered  cnt  \n",
              "0          13   16  \n",
              "1          32   40  \n",
              "2          27   32  \n",
              "3          10   13  \n",
              "4           1    1  "
            ]
          },
          "execution_count": 122,
          "metadata": {},
          "output_type": "execute_result"
        }
      ],
      "source": [
        "#Data set yang telah selesai di cleaning\n",
        "hour_df.head()"
      ]
    },
    {
      "cell_type": "markdown",
      "metadata": {
        "id": "gp-Y6wU38DC1"
      },
      "source": [
        "## Exploratory Data Analysis (EDA)"
      ]
    },
    {
      "cell_type": "markdown",
      "metadata": {
        "id": "MW7WF2kr8DC1"
      },
      "source": [
        "### Explore ..."
      ]
    },
    {
      "cell_type": "code",
      "execution_count": 123,
      "metadata": {},
      "outputs": [
        {
          "data": {
            "text/html": [
              "<div>\n",
              "<style scoped>\n",
              "    .dataframe tbody tr th:only-of-type {\n",
              "        vertical-align: middle;\n",
              "    }\n",
              "\n",
              "    .dataframe tbody tr th {\n",
              "        vertical-align: top;\n",
              "    }\n",
              "\n",
              "    .dataframe thead th {\n",
              "        text-align: right;\n",
              "    }\n",
              "</style>\n",
              "<table border=\"1\" class=\"dataframe\">\n",
              "  <thead>\n",
              "    <tr style=\"text-align: right;\">\n",
              "      <th></th>\n",
              "      <th>instant</th>\n",
              "      <th>dteday</th>\n",
              "      <th>season</th>\n",
              "      <th>yr</th>\n",
              "      <th>mnth</th>\n",
              "      <th>hr</th>\n",
              "      <th>holiday</th>\n",
              "      <th>weekday</th>\n",
              "      <th>workingday</th>\n",
              "      <th>weathersit</th>\n",
              "      <th>temp</th>\n",
              "      <th>atemp</th>\n",
              "      <th>hum</th>\n",
              "      <th>windspeed</th>\n",
              "      <th>casual</th>\n",
              "      <th>registered</th>\n",
              "      <th>cnt</th>\n",
              "    </tr>\n",
              "  </thead>\n",
              "  <tbody>\n",
              "    <tr>\n",
              "      <th>16070</th>\n",
              "      <td>16071</td>\n",
              "      <td>2012-11-07</td>\n",
              "      <td>Winter</td>\n",
              "      <td>2012</td>\n",
              "      <td>November</td>\n",
              "      <td>7</td>\n",
              "      <td>No Holiday</td>\n",
              "      <td>Wednesday</td>\n",
              "      <td>Working Day</td>\n",
              "      <td>Cloudy</td>\n",
              "      <td>0.26</td>\n",
              "      <td>0.2273</td>\n",
              "      <td>0.56</td>\n",
              "      <td>0.2985</td>\n",
              "      <td>5</td>\n",
              "      <td>314</td>\n",
              "      <td>319</td>\n",
              "    </tr>\n",
              "    <tr>\n",
              "      <th>1293</th>\n",
              "      <td>1294</td>\n",
              "      <td>2011-02-27</td>\n",
              "      <td>Spring</td>\n",
              "      <td>2011</td>\n",
              "      <td>February</td>\n",
              "      <td>1</td>\n",
              "      <td>No Holiday</td>\n",
              "      <td>Sunday</td>\n",
              "      <td>Non-Working Day</td>\n",
              "      <td>Few Clouds</td>\n",
              "      <td>0.26</td>\n",
              "      <td>0.2576</td>\n",
              "      <td>0.87</td>\n",
              "      <td>0.1940</td>\n",
              "      <td>7</td>\n",
              "      <td>30</td>\n",
              "      <td>37</td>\n",
              "    </tr>\n",
              "    <tr>\n",
              "      <th>10230</th>\n",
              "      <td>10231</td>\n",
              "      <td>2012-03-07</td>\n",
              "      <td>Spring</td>\n",
              "      <td>2012</td>\n",
              "      <td>March</td>\n",
              "      <td>8</td>\n",
              "      <td>No Holiday</td>\n",
              "      <td>Wednesday</td>\n",
              "      <td>Working Day</td>\n",
              "      <td>Few Clouds</td>\n",
              "      <td>0.28</td>\n",
              "      <td>0.2576</td>\n",
              "      <td>0.61</td>\n",
              "      <td>0.2985</td>\n",
              "      <td>12</td>\n",
              "      <td>554</td>\n",
              "      <td>566</td>\n",
              "    </tr>\n",
              "    <tr>\n",
              "      <th>7572</th>\n",
              "      <td>7573</td>\n",
              "      <td>2011-11-17</td>\n",
              "      <td>Winter</td>\n",
              "      <td>2011</td>\n",
              "      <td>November</td>\n",
              "      <td>3</td>\n",
              "      <td>No Holiday</td>\n",
              "      <td>Thursday</td>\n",
              "      <td>Working Day</td>\n",
              "      <td>Cloudy</td>\n",
              "      <td>0.42</td>\n",
              "      <td>0.4242</td>\n",
              "      <td>0.77</td>\n",
              "      <td>0.3284</td>\n",
              "      <td>0</td>\n",
              "      <td>3</td>\n",
              "      <td>3</td>\n",
              "    </tr>\n",
              "    <tr>\n",
              "      <th>9835</th>\n",
              "      <td>9836</td>\n",
              "      <td>2012-02-19</td>\n",
              "      <td>Spring</td>\n",
              "      <td>2012</td>\n",
              "      <td>February</td>\n",
              "      <td>18</td>\n",
              "      <td>No Holiday</td>\n",
              "      <td>Sunday</td>\n",
              "      <td>Non-Working Day</td>\n",
              "      <td>Cloudy</td>\n",
              "      <td>0.30</td>\n",
              "      <td>0.2727</td>\n",
              "      <td>0.49</td>\n",
              "      <td>0.3284</td>\n",
              "      <td>23</td>\n",
              "      <td>144</td>\n",
              "      <td>167</td>\n",
              "    </tr>\n",
              "  </tbody>\n",
              "</table>\n",
              "</div>"
            ],
            "text/plain": [
              "       instant     dteday  season    yr      mnth  hr     holiday    weekday  \\\n",
              "16070    16071 2012-11-07  Winter  2012  November   7  No Holiday  Wednesday   \n",
              "1293      1294 2011-02-27  Spring  2011  February   1  No Holiday     Sunday   \n",
              "10230    10231 2012-03-07  Spring  2012     March   8  No Holiday  Wednesday   \n",
              "7572      7573 2011-11-17  Winter  2011  November   3  No Holiday   Thursday   \n",
              "9835      9836 2012-02-19  Spring  2012  February  18  No Holiday     Sunday   \n",
              "\n",
              "            workingday  weathersit  temp   atemp   hum  windspeed  casual  \\\n",
              "16070      Working Day      Cloudy  0.26  0.2273  0.56     0.2985       5   \n",
              "1293   Non-Working Day  Few Clouds  0.26  0.2576  0.87     0.1940       7   \n",
              "10230      Working Day  Few Clouds  0.28  0.2576  0.61     0.2985      12   \n",
              "7572       Working Day      Cloudy  0.42  0.4242  0.77     0.3284       0   \n",
              "9835   Non-Working Day      Cloudy  0.30  0.2727  0.49     0.3284      23   \n",
              "\n",
              "       registered  cnt  \n",
              "16070         314  319  \n",
              "1293           30   37  \n",
              "10230         554  566  \n",
              "7572            3    3  \n",
              "9835          144  167  "
            ]
          },
          "execution_count": 123,
          "metadata": {},
          "output_type": "execute_result"
        }
      ],
      "source": [
        "hour_df.sample(5)"
      ]
    },
    {
      "cell_type": "code",
      "execution_count": 124,
      "metadata": {
        "id": "e9CQCZjk8DC2"
      },
      "outputs": [
        {
          "name": "stdout",
          "output_type": "stream",
          "text": [
            "<class 'pandas.core.frame.DataFrame'>\n",
            "RangeIndex: 17379 entries, 0 to 17378\n",
            "Data columns (total 17 columns):\n",
            " #   Column      Non-Null Count  Dtype         \n",
            "---  ------      --------------  -----         \n",
            " 0   instant     17379 non-null  int64         \n",
            " 1   dteday      17379 non-null  datetime64[ns]\n",
            " 2   season      17379 non-null  object        \n",
            " 3   yr          17379 non-null  int64         \n",
            " 4   mnth        17379 non-null  object        \n",
            " 5   hr          17379 non-null  int64         \n",
            " 6   holiday     17379 non-null  object        \n",
            " 7   weekday     17379 non-null  object        \n",
            " 8   workingday  17379 non-null  object        \n",
            " 9   weathersit  17379 non-null  object        \n",
            " 10  temp        17379 non-null  float64       \n",
            " 11  atemp       17379 non-null  float64       \n",
            " 12  hum         17379 non-null  float64       \n",
            " 13  windspeed   17379 non-null  float64       \n",
            " 14  casual      17379 non-null  int64         \n",
            " 15  registered  17379 non-null  int64         \n",
            " 16  cnt         17379 non-null  int64         \n",
            "dtypes: datetime64[ns](1), float64(4), int64(6), object(6)\n",
            "memory usage: 2.3+ MB\n"
          ]
        }
      ],
      "source": [
        "hour_df.info()"
      ]
    },
    {
      "cell_type": "code",
      "execution_count": 87,
      "metadata": {},
      "outputs": [
        {
          "data": {
            "text/html": [
              "<div>\n",
              "<style scoped>\n",
              "    .dataframe tbody tr th:only-of-type {\n",
              "        vertical-align: middle;\n",
              "    }\n",
              "\n",
              "    .dataframe tbody tr th {\n",
              "        vertical-align: top;\n",
              "    }\n",
              "\n",
              "    .dataframe thead th {\n",
              "        text-align: right;\n",
              "    }\n",
              "</style>\n",
              "<table border=\"1\" class=\"dataframe\">\n",
              "  <thead>\n",
              "    <tr style=\"text-align: right;\">\n",
              "      <th></th>\n",
              "      <th>instant</th>\n",
              "      <th>dteday</th>\n",
              "      <th>season</th>\n",
              "      <th>yr</th>\n",
              "      <th>mnth</th>\n",
              "      <th>hr</th>\n",
              "      <th>holiday</th>\n",
              "      <th>weekday</th>\n",
              "      <th>workingday</th>\n",
              "      <th>weathersit</th>\n",
              "      <th>temp</th>\n",
              "      <th>atemp</th>\n",
              "      <th>hum</th>\n",
              "      <th>windspeed</th>\n",
              "      <th>casual</th>\n",
              "      <th>registered</th>\n",
              "      <th>cnt</th>\n",
              "    </tr>\n",
              "  </thead>\n",
              "  <tbody>\n",
              "    <tr>\n",
              "      <th>count</th>\n",
              "      <td>17379.0000</td>\n",
              "      <td>17379</td>\n",
              "      <td>17379</td>\n",
              "      <td>17379.000000</td>\n",
              "      <td>17379</td>\n",
              "      <td>17379.000000</td>\n",
              "      <td>17379</td>\n",
              "      <td>17379</td>\n",
              "      <td>17379</td>\n",
              "      <td>17379</td>\n",
              "      <td>17379.000000</td>\n",
              "      <td>17379.000000</td>\n",
              "      <td>17379.000000</td>\n",
              "      <td>17379.000000</td>\n",
              "      <td>17379.000000</td>\n",
              "      <td>17379.000000</td>\n",
              "      <td>17379.000000</td>\n",
              "    </tr>\n",
              "    <tr>\n",
              "      <th>unique</th>\n",
              "      <td>NaN</td>\n",
              "      <td>NaN</td>\n",
              "      <td>4</td>\n",
              "      <td>NaN</td>\n",
              "      <td>12</td>\n",
              "      <td>NaN</td>\n",
              "      <td>2</td>\n",
              "      <td>7</td>\n",
              "      <td>2</td>\n",
              "      <td>4</td>\n",
              "      <td>NaN</td>\n",
              "      <td>NaN</td>\n",
              "      <td>NaN</td>\n",
              "      <td>NaN</td>\n",
              "      <td>NaN</td>\n",
              "      <td>NaN</td>\n",
              "      <td>NaN</td>\n",
              "    </tr>\n",
              "    <tr>\n",
              "      <th>top</th>\n",
              "      <td>NaN</td>\n",
              "      <td>NaN</td>\n",
              "      <td>Fall</td>\n",
              "      <td>NaN</td>\n",
              "      <td>July</td>\n",
              "      <td>NaN</td>\n",
              "      <td>No Holiday</td>\n",
              "      <td>Saturday</td>\n",
              "      <td>Working Day</td>\n",
              "      <td>Few Clouds</td>\n",
              "      <td>NaN</td>\n",
              "      <td>NaN</td>\n",
              "      <td>NaN</td>\n",
              "      <td>NaN</td>\n",
              "      <td>NaN</td>\n",
              "      <td>NaN</td>\n",
              "      <td>NaN</td>\n",
              "    </tr>\n",
              "    <tr>\n",
              "      <th>freq</th>\n",
              "      <td>NaN</td>\n",
              "      <td>NaN</td>\n",
              "      <td>4496</td>\n",
              "      <td>NaN</td>\n",
              "      <td>1488</td>\n",
              "      <td>NaN</td>\n",
              "      <td>16879</td>\n",
              "      <td>2512</td>\n",
              "      <td>11865</td>\n",
              "      <td>11413</td>\n",
              "      <td>NaN</td>\n",
              "      <td>NaN</td>\n",
              "      <td>NaN</td>\n",
              "      <td>NaN</td>\n",
              "      <td>NaN</td>\n",
              "      <td>NaN</td>\n",
              "      <td>NaN</td>\n",
              "    </tr>\n",
              "    <tr>\n",
              "      <th>mean</th>\n",
              "      <td>8690.0000</td>\n",
              "      <td>2012-01-02 04:08:34.552045568</td>\n",
              "      <td>NaN</td>\n",
              "      <td>2011.502561</td>\n",
              "      <td>NaN</td>\n",
              "      <td>11.546752</td>\n",
              "      <td>NaN</td>\n",
              "      <td>NaN</td>\n",
              "      <td>NaN</td>\n",
              "      <td>NaN</td>\n",
              "      <td>0.496987</td>\n",
              "      <td>0.475775</td>\n",
              "      <td>0.627229</td>\n",
              "      <td>0.190098</td>\n",
              "      <td>35.676218</td>\n",
              "      <td>153.786869</td>\n",
              "      <td>189.463088</td>\n",
              "    </tr>\n",
              "    <tr>\n",
              "      <th>min</th>\n",
              "      <td>1.0000</td>\n",
              "      <td>2011-01-01 00:00:00</td>\n",
              "      <td>NaN</td>\n",
              "      <td>2011.000000</td>\n",
              "      <td>NaN</td>\n",
              "      <td>0.000000</td>\n",
              "      <td>NaN</td>\n",
              "      <td>NaN</td>\n",
              "      <td>NaN</td>\n",
              "      <td>NaN</td>\n",
              "      <td>0.020000</td>\n",
              "      <td>0.000000</td>\n",
              "      <td>0.000000</td>\n",
              "      <td>0.000000</td>\n",
              "      <td>0.000000</td>\n",
              "      <td>0.000000</td>\n",
              "      <td>1.000000</td>\n",
              "    </tr>\n",
              "    <tr>\n",
              "      <th>25%</th>\n",
              "      <td>4345.5000</td>\n",
              "      <td>2011-07-04 00:00:00</td>\n",
              "      <td>NaN</td>\n",
              "      <td>2011.000000</td>\n",
              "      <td>NaN</td>\n",
              "      <td>6.000000</td>\n",
              "      <td>NaN</td>\n",
              "      <td>NaN</td>\n",
              "      <td>NaN</td>\n",
              "      <td>NaN</td>\n",
              "      <td>0.340000</td>\n",
              "      <td>0.333300</td>\n",
              "      <td>0.480000</td>\n",
              "      <td>0.104500</td>\n",
              "      <td>4.000000</td>\n",
              "      <td>34.000000</td>\n",
              "      <td>40.000000</td>\n",
              "    </tr>\n",
              "    <tr>\n",
              "      <th>50%</th>\n",
              "      <td>8690.0000</td>\n",
              "      <td>2012-01-02 00:00:00</td>\n",
              "      <td>NaN</td>\n",
              "      <td>2012.000000</td>\n",
              "      <td>NaN</td>\n",
              "      <td>12.000000</td>\n",
              "      <td>NaN</td>\n",
              "      <td>NaN</td>\n",
              "      <td>NaN</td>\n",
              "      <td>NaN</td>\n",
              "      <td>0.500000</td>\n",
              "      <td>0.484800</td>\n",
              "      <td>0.630000</td>\n",
              "      <td>0.194000</td>\n",
              "      <td>17.000000</td>\n",
              "      <td>115.000000</td>\n",
              "      <td>142.000000</td>\n",
              "    </tr>\n",
              "    <tr>\n",
              "      <th>75%</th>\n",
              "      <td>13034.5000</td>\n",
              "      <td>2012-07-02 00:00:00</td>\n",
              "      <td>NaN</td>\n",
              "      <td>2012.000000</td>\n",
              "      <td>NaN</td>\n",
              "      <td>18.000000</td>\n",
              "      <td>NaN</td>\n",
              "      <td>NaN</td>\n",
              "      <td>NaN</td>\n",
              "      <td>NaN</td>\n",
              "      <td>0.660000</td>\n",
              "      <td>0.621200</td>\n",
              "      <td>0.780000</td>\n",
              "      <td>0.253700</td>\n",
              "      <td>48.000000</td>\n",
              "      <td>220.000000</td>\n",
              "      <td>281.000000</td>\n",
              "    </tr>\n",
              "    <tr>\n",
              "      <th>max</th>\n",
              "      <td>17379.0000</td>\n",
              "      <td>2012-12-31 00:00:00</td>\n",
              "      <td>NaN</td>\n",
              "      <td>2012.000000</td>\n",
              "      <td>NaN</td>\n",
              "      <td>23.000000</td>\n",
              "      <td>NaN</td>\n",
              "      <td>NaN</td>\n",
              "      <td>NaN</td>\n",
              "      <td>NaN</td>\n",
              "      <td>1.000000</td>\n",
              "      <td>1.000000</td>\n",
              "      <td>1.000000</td>\n",
              "      <td>0.850700</td>\n",
              "      <td>367.000000</td>\n",
              "      <td>886.000000</td>\n",
              "      <td>977.000000</td>\n",
              "    </tr>\n",
              "    <tr>\n",
              "      <th>std</th>\n",
              "      <td>5017.0295</td>\n",
              "      <td>NaN</td>\n",
              "      <td>NaN</td>\n",
              "      <td>0.500008</td>\n",
              "      <td>NaN</td>\n",
              "      <td>6.914405</td>\n",
              "      <td>NaN</td>\n",
              "      <td>NaN</td>\n",
              "      <td>NaN</td>\n",
              "      <td>NaN</td>\n",
              "      <td>0.192556</td>\n",
              "      <td>0.171850</td>\n",
              "      <td>0.192930</td>\n",
              "      <td>0.122340</td>\n",
              "      <td>49.305030</td>\n",
              "      <td>151.357286</td>\n",
              "      <td>181.387599</td>\n",
              "    </tr>\n",
              "  </tbody>\n",
              "</table>\n",
              "</div>"
            ],
            "text/plain": [
              "           instant                         dteday season            yr   mnth  \\\n",
              "count   17379.0000                          17379  17379  17379.000000  17379   \n",
              "unique         NaN                            NaN      4           NaN     12   \n",
              "top            NaN                            NaN   Fall           NaN   July   \n",
              "freq           NaN                            NaN   4496           NaN   1488   \n",
              "mean     8690.0000  2012-01-02 04:08:34.552045568    NaN   2011.502561    NaN   \n",
              "min         1.0000            2011-01-01 00:00:00    NaN   2011.000000    NaN   \n",
              "25%      4345.5000            2011-07-04 00:00:00    NaN   2011.000000    NaN   \n",
              "50%      8690.0000            2012-01-02 00:00:00    NaN   2012.000000    NaN   \n",
              "75%     13034.5000            2012-07-02 00:00:00    NaN   2012.000000    NaN   \n",
              "max     17379.0000            2012-12-31 00:00:00    NaN   2012.000000    NaN   \n",
              "std      5017.0295                            NaN    NaN      0.500008    NaN   \n",
              "\n",
              "                  hr     holiday   weekday   workingday  weathersit  \\\n",
              "count   17379.000000       17379     17379        17379       17379   \n",
              "unique           NaN           2         7            2           4   \n",
              "top              NaN  No Holiday  Saturday  Working Day  Few Clouds   \n",
              "freq             NaN       16879      2512        11865       11413   \n",
              "mean       11.546752         NaN       NaN          NaN         NaN   \n",
              "min         0.000000         NaN       NaN          NaN         NaN   \n",
              "25%         6.000000         NaN       NaN          NaN         NaN   \n",
              "50%        12.000000         NaN       NaN          NaN         NaN   \n",
              "75%        18.000000         NaN       NaN          NaN         NaN   \n",
              "max        23.000000         NaN       NaN          NaN         NaN   \n",
              "std         6.914405         NaN       NaN          NaN         NaN   \n",
              "\n",
              "                temp         atemp           hum     windspeed        casual  \\\n",
              "count   17379.000000  17379.000000  17379.000000  17379.000000  17379.000000   \n",
              "unique           NaN           NaN           NaN           NaN           NaN   \n",
              "top              NaN           NaN           NaN           NaN           NaN   \n",
              "freq             NaN           NaN           NaN           NaN           NaN   \n",
              "mean        0.496987      0.475775      0.627229      0.190098     35.676218   \n",
              "min         0.020000      0.000000      0.000000      0.000000      0.000000   \n",
              "25%         0.340000      0.333300      0.480000      0.104500      4.000000   \n",
              "50%         0.500000      0.484800      0.630000      0.194000     17.000000   \n",
              "75%         0.660000      0.621200      0.780000      0.253700     48.000000   \n",
              "max         1.000000      1.000000      1.000000      0.850700    367.000000   \n",
              "std         0.192556      0.171850      0.192930      0.122340     49.305030   \n",
              "\n",
              "          registered           cnt  \n",
              "count   17379.000000  17379.000000  \n",
              "unique           NaN           NaN  \n",
              "top              NaN           NaN  \n",
              "freq             NaN           NaN  \n",
              "mean      153.786869    189.463088  \n",
              "min         0.000000      1.000000  \n",
              "25%        34.000000     40.000000  \n",
              "50%       115.000000    142.000000  \n",
              "75%       220.000000    281.000000  \n",
              "max       886.000000    977.000000  \n",
              "std       151.357286    181.387599  "
            ]
          },
          "execution_count": 87,
          "metadata": {},
          "output_type": "execute_result"
        }
      ],
      "source": [
        "hour_df.describe(include=\"all\")"
      ]
    },
    {
      "cell_type": "markdown",
      "metadata": {},
      "source": [
        "**Jumlah Penyewa Sepeda, berdasarkan casual, registered, dan cnt(total)**"
      ]
    },
    {
      "cell_type": "code",
      "execution_count": 135,
      "metadata": {},
      "outputs": [
        {
          "data": {
            "text/html": [
              "<div>\n",
              "<style scoped>\n",
              "    .dataframe tbody tr th:only-of-type {\n",
              "        vertical-align: middle;\n",
              "    }\n",
              "\n",
              "    .dataframe tbody tr th {\n",
              "        vertical-align: top;\n",
              "    }\n",
              "\n",
              "    .dataframe thead th {\n",
              "        text-align: right;\n",
              "    }\n",
              "</style>\n",
              "<table border=\"1\" class=\"dataframe\">\n",
              "  <thead>\n",
              "    <tr style=\"text-align: right;\">\n",
              "      <th></th>\n",
              "      <th>casual</th>\n",
              "      <th>registered</th>\n",
              "      <th>cnt</th>\n",
              "    </tr>\n",
              "    <tr>\n",
              "      <th>yr</th>\n",
              "      <th></th>\n",
              "      <th></th>\n",
              "      <th></th>\n",
              "    </tr>\n",
              "  </thead>\n",
              "  <tbody>\n",
              "    <tr>\n",
              "      <th>2011</th>\n",
              "      <td>247252</td>\n",
              "      <td>995851</td>\n",
              "      <td>1243103</td>\n",
              "    </tr>\n",
              "    <tr>\n",
              "      <th>2012</th>\n",
              "      <td>372765</td>\n",
              "      <td>1676811</td>\n",
              "      <td>2049576</td>\n",
              "    </tr>\n",
              "  </tbody>\n",
              "</table>\n",
              "</div>"
            ],
            "text/plain": [
              "      casual  registered      cnt\n",
              "yr                               \n",
              "2011  247252      995851  1243103\n",
              "2012  372765     1676811  2049576"
            ]
          },
          "execution_count": 135,
          "metadata": {},
          "output_type": "execute_result"
        }
      ],
      "source": [
        "#Berdasarkan year\n",
        "hour_df.groupby(by=\"yr\").agg({\n",
        "    \"casual\": \"sum\",\n",
        "    \"registered\": \"sum\",\n",
        "    \"cnt\": \"sum\"\n",
        "})"
      ]
    },
    {
      "cell_type": "code",
      "execution_count": 136,
      "metadata": {},
      "outputs": [
        {
          "data": {
            "text/html": [
              "<div>\n",
              "<style scoped>\n",
              "    .dataframe tbody tr th:only-of-type {\n",
              "        vertical-align: middle;\n",
              "    }\n",
              "\n",
              "    .dataframe tbody tr th {\n",
              "        vertical-align: top;\n",
              "    }\n",
              "\n",
              "    .dataframe thead th {\n",
              "        text-align: right;\n",
              "    }\n",
              "</style>\n",
              "<table border=\"1\" class=\"dataframe\">\n",
              "  <thead>\n",
              "    <tr style=\"text-align: right;\">\n",
              "      <th></th>\n",
              "      <th>casual</th>\n",
              "      <th>registered</th>\n",
              "      <th>cnt</th>\n",
              "    </tr>\n",
              "    <tr>\n",
              "      <th>mnth</th>\n",
              "      <th></th>\n",
              "      <th></th>\n",
              "      <th></th>\n",
              "    </tr>\n",
              "  </thead>\n",
              "  <tbody>\n",
              "    <tr>\n",
              "      <th>April</th>\n",
              "      <td>60802</td>\n",
              "      <td>208292</td>\n",
              "      <td>269094</td>\n",
              "    </tr>\n",
              "    <tr>\n",
              "      <th>August</th>\n",
              "      <td>72039</td>\n",
              "      <td>279155</td>\n",
              "      <td>351194</td>\n",
              "    </tr>\n",
              "    <tr>\n",
              "      <th>December</th>\n",
              "      <td>21693</td>\n",
              "      <td>189343</td>\n",
              "      <td>211036</td>\n",
              "    </tr>\n",
              "    <tr>\n",
              "      <th>February</th>\n",
              "      <td>14963</td>\n",
              "      <td>136389</td>\n",
              "      <td>151352</td>\n",
              "    </tr>\n",
              "    <tr>\n",
              "      <th>January</th>\n",
              "      <td>12042</td>\n",
              "      <td>122891</td>\n",
              "      <td>134933</td>\n",
              "    </tr>\n",
              "    <tr>\n",
              "      <th>July</th>\n",
              "      <td>78157</td>\n",
              "      <td>266791</td>\n",
              "      <td>344948</td>\n",
              "    </tr>\n",
              "    <tr>\n",
              "      <th>June</th>\n",
              "      <td>73906</td>\n",
              "      <td>272436</td>\n",
              "      <td>346342</td>\n",
              "    </tr>\n",
              "    <tr>\n",
              "      <th>March</th>\n",
              "      <td>44444</td>\n",
              "      <td>184476</td>\n",
              "      <td>228920</td>\n",
              "    </tr>\n",
              "    <tr>\n",
              "      <th>May</th>\n",
              "      <td>75285</td>\n",
              "      <td>256401</td>\n",
              "      <td>331686</td>\n",
              "    </tr>\n",
              "    <tr>\n",
              "      <th>November</th>\n",
              "      <td>36603</td>\n",
              "      <td>218228</td>\n",
              "      <td>254831</td>\n",
              "    </tr>\n",
              "    <tr>\n",
              "      <th>October</th>\n",
              "      <td>59760</td>\n",
              "      <td>262592</td>\n",
              "      <td>322352</td>\n",
              "    </tr>\n",
              "    <tr>\n",
              "      <th>September</th>\n",
              "      <td>70323</td>\n",
              "      <td>275668</td>\n",
              "      <td>345991</td>\n",
              "    </tr>\n",
              "  </tbody>\n",
              "</table>\n",
              "</div>"
            ],
            "text/plain": [
              "           casual  registered     cnt\n",
              "mnth                                 \n",
              "April       60802      208292  269094\n",
              "August      72039      279155  351194\n",
              "December    21693      189343  211036\n",
              "February    14963      136389  151352\n",
              "January     12042      122891  134933\n",
              "July        78157      266791  344948\n",
              "June        73906      272436  346342\n",
              "March       44444      184476  228920\n",
              "May         75285      256401  331686\n",
              "November    36603      218228  254831\n",
              "October     59760      262592  322352\n",
              "September   70323      275668  345991"
            ]
          },
          "execution_count": 136,
          "metadata": {},
          "output_type": "execute_result"
        }
      ],
      "source": [
        "#Berdasarkan month\n",
        "hour_df.groupby(by=\"mnth\").agg({\n",
        "    \"casual\": \"sum\",\n",
        "    \"registered\": \"sum\",\n",
        "    \"cnt\": \"sum\"\n",
        "})"
      ]
    },
    {
      "cell_type": "code",
      "execution_count": 128,
      "metadata": {},
      "outputs": [
        {
          "data": {
            "text/html": [
              "<div>\n",
              "<style scoped>\n",
              "    .dataframe tbody tr th:only-of-type {\n",
              "        vertical-align: middle;\n",
              "    }\n",
              "\n",
              "    .dataframe tbody tr th {\n",
              "        vertical-align: top;\n",
              "    }\n",
              "\n",
              "    .dataframe thead th {\n",
              "        text-align: right;\n",
              "    }\n",
              "</style>\n",
              "<table border=\"1\" class=\"dataframe\">\n",
              "  <thead>\n",
              "    <tr style=\"text-align: right;\">\n",
              "      <th></th>\n",
              "      <th>casual</th>\n",
              "      <th>registered</th>\n",
              "      <th>cnt</th>\n",
              "    </tr>\n",
              "    <tr>\n",
              "      <th>weekday</th>\n",
              "      <th></th>\n",
              "      <th></th>\n",
              "      <th></th>\n",
              "    </tr>\n",
              "  </thead>\n",
              "  <tbody>\n",
              "    <tr>\n",
              "      <th>Friday</th>\n",
              "      <td>78238</td>\n",
              "      <td>409552</td>\n",
              "      <td>487790</td>\n",
              "    </tr>\n",
              "    <tr>\n",
              "      <th>Monday</th>\n",
              "      <td>70784</td>\n",
              "      <td>384719</td>\n",
              "      <td>455503</td>\n",
              "    </tr>\n",
              "    <tr>\n",
              "      <th>Saturday</th>\n",
              "      <td>153852</td>\n",
              "      <td>323955</td>\n",
              "      <td>477807</td>\n",
              "    </tr>\n",
              "    <tr>\n",
              "      <th>Sunday</th>\n",
              "      <td>140521</td>\n",
              "      <td>303506</td>\n",
              "      <td>444027</td>\n",
              "    </tr>\n",
              "    <tr>\n",
              "      <th>Thursday</th>\n",
              "      <td>61460</td>\n",
              "      <td>423935</td>\n",
              "      <td>485395</td>\n",
              "    </tr>\n",
              "    <tr>\n",
              "      <th>Tuesday</th>\n",
              "      <td>57843</td>\n",
              "      <td>411266</td>\n",
              "      <td>469109</td>\n",
              "    </tr>\n",
              "    <tr>\n",
              "      <th>Wednesday</th>\n",
              "      <td>57319</td>\n",
              "      <td>415729</td>\n",
              "      <td>473048</td>\n",
              "    </tr>\n",
              "  </tbody>\n",
              "</table>\n",
              "</div>"
            ],
            "text/plain": [
              "           casual  registered     cnt\n",
              "weekday                              \n",
              "Friday      78238      409552  487790\n",
              "Monday      70784      384719  455503\n",
              "Saturday   153852      323955  477807\n",
              "Sunday     140521      303506  444027\n",
              "Thursday    61460      423935  485395\n",
              "Tuesday     57843      411266  469109\n",
              "Wednesday   57319      415729  473048"
            ]
          },
          "execution_count": 128,
          "metadata": {},
          "output_type": "execute_result"
        }
      ],
      "source": [
        "#Berdasarkan weekday\n",
        "hour_df.groupby(by=\"weekday\").agg({\n",
        "    \"casual\": \"sum\",\n",
        "    \"registered\": \"sum\",\n",
        "    \"cnt\": \"sum\"\n",
        "})"
      ]
    },
    {
      "cell_type": "markdown",
      "metadata": {},
      "source": [
        "Berdasarkan keluaran di atas dapat dilihat bahwa jumlah penyewa sepeda casual paling banyak pada hari Saturday dan paling sedikit pada hari Wednesday. Sedangkan jumlah penyewa sepeda registered paling banyak pada hari Thursday dan paling sedikit pada hari Sunday. Dengan total jumlah penyewa sepeda paling banyak pada hari Friday sebanyak 487790 penyewa."
      ]
    },
    {
      "cell_type": "code",
      "execution_count": 129,
      "metadata": {},
      "outputs": [
        {
          "data": {
            "text/html": [
              "<div>\n",
              "<style scoped>\n",
              "    .dataframe tbody tr th:only-of-type {\n",
              "        vertical-align: middle;\n",
              "    }\n",
              "\n",
              "    .dataframe tbody tr th {\n",
              "        vertical-align: top;\n",
              "    }\n",
              "\n",
              "    .dataframe thead th {\n",
              "        text-align: right;\n",
              "    }\n",
              "</style>\n",
              "<table border=\"1\" class=\"dataframe\">\n",
              "  <thead>\n",
              "    <tr style=\"text-align: right;\">\n",
              "      <th></th>\n",
              "      <th>casual</th>\n",
              "      <th>registered</th>\n",
              "      <th>cnt</th>\n",
              "    </tr>\n",
              "    <tr>\n",
              "      <th>season</th>\n",
              "      <th></th>\n",
              "      <th></th>\n",
              "      <th></th>\n",
              "    </tr>\n",
              "  </thead>\n",
              "  <tbody>\n",
              "    <tr>\n",
              "      <th>Fall</th>\n",
              "      <td>226091</td>\n",
              "      <td>835038</td>\n",
              "      <td>1061129</td>\n",
              "    </tr>\n",
              "    <tr>\n",
              "      <th>Spring</th>\n",
              "      <td>60622</td>\n",
              "      <td>410726</td>\n",
              "      <td>471348</td>\n",
              "    </tr>\n",
              "    <tr>\n",
              "      <th>Summer</th>\n",
              "      <td>203522</td>\n",
              "      <td>715067</td>\n",
              "      <td>918589</td>\n",
              "    </tr>\n",
              "    <tr>\n",
              "      <th>Winter</th>\n",
              "      <td>129782</td>\n",
              "      <td>711831</td>\n",
              "      <td>841613</td>\n",
              "    </tr>\n",
              "  </tbody>\n",
              "</table>\n",
              "</div>"
            ],
            "text/plain": [
              "        casual  registered      cnt\n",
              "season                             \n",
              "Fall    226091      835038  1061129\n",
              "Spring   60622      410726   471348\n",
              "Summer  203522      715067   918589\n",
              "Winter  129782      711831   841613"
            ]
          },
          "execution_count": 129,
          "metadata": {},
          "output_type": "execute_result"
        }
      ],
      "source": [
        "#Berdasarkan season\n",
        "hour_df.groupby(by=\"season\").agg({\n",
        "    \"casual\": \"sum\",\n",
        "    \"registered\": \"sum\",\n",
        "    \"cnt\": \"sum\"\n",
        "})"
      ]
    },
    {
      "cell_type": "markdown",
      "metadata": {},
      "source": [
        "Berdasarkan keluaran di atas dapat dilihat bahwa jumlah penyewa sepeda baik casual, registered maupun total keduanya paling banyak pada season Fall dan paling sedikit pada season Spring."
      ]
    },
    {
      "cell_type": "code",
      "execution_count": 131,
      "metadata": {},
      "outputs": [
        {
          "data": {
            "text/html": [
              "<div>\n",
              "<style scoped>\n",
              "    .dataframe tbody tr th:only-of-type {\n",
              "        vertical-align: middle;\n",
              "    }\n",
              "\n",
              "    .dataframe tbody tr th {\n",
              "        vertical-align: top;\n",
              "    }\n",
              "\n",
              "    .dataframe thead th {\n",
              "        text-align: right;\n",
              "    }\n",
              "</style>\n",
              "<table border=\"1\" class=\"dataframe\">\n",
              "  <thead>\n",
              "    <tr style=\"text-align: right;\">\n",
              "      <th></th>\n",
              "      <th>casual</th>\n",
              "      <th>registered</th>\n",
              "      <th>cnt</th>\n",
              "    </tr>\n",
              "    <tr>\n",
              "      <th>holiday</th>\n",
              "      <th></th>\n",
              "      <th></th>\n",
              "      <th></th>\n",
              "    </tr>\n",
              "  </thead>\n",
              "  <tbody>\n",
              "    <tr>\n",
              "      <th>Holiday</th>\n",
              "      <td>22359</td>\n",
              "      <td>56076</td>\n",
              "      <td>78435</td>\n",
              "    </tr>\n",
              "    <tr>\n",
              "      <th>No Holiday</th>\n",
              "      <td>597658</td>\n",
              "      <td>2616586</td>\n",
              "      <td>3214244</td>\n",
              "    </tr>\n",
              "  </tbody>\n",
              "</table>\n",
              "</div>"
            ],
            "text/plain": [
              "            casual  registered      cnt\n",
              "holiday                                \n",
              "Holiday      22359       56076    78435\n",
              "No Holiday  597658     2616586  3214244"
            ]
          },
          "execution_count": 131,
          "metadata": {},
          "output_type": "execute_result"
        }
      ],
      "source": [
        "#Berdasarakan holiday\n",
        "hour_df.groupby(by=\"holiday\").agg({\n",
        "    \"casual\": \"sum\",\n",
        "    \"registered\": \"sum\",\n",
        "    \"cnt\": \"sum\"\n",
        "})"
      ]
    },
    {
      "cell_type": "markdown",
      "metadata": {},
      "source": [
        "Berdasarkan keluaran di atas dapat dilihat bahwa jumlah penyewa sepeda baik casual, registered maupun total keduanya paling banyak pada No holiday."
      ]
    },
    {
      "cell_type": "code",
      "execution_count": 132,
      "metadata": {},
      "outputs": [
        {
          "data": {
            "text/html": [
              "<div>\n",
              "<style scoped>\n",
              "    .dataframe tbody tr th:only-of-type {\n",
              "        vertical-align: middle;\n",
              "    }\n",
              "\n",
              "    .dataframe tbody tr th {\n",
              "        vertical-align: top;\n",
              "    }\n",
              "\n",
              "    .dataframe thead th {\n",
              "        text-align: right;\n",
              "    }\n",
              "</style>\n",
              "<table border=\"1\" class=\"dataframe\">\n",
              "  <thead>\n",
              "    <tr style=\"text-align: right;\">\n",
              "      <th></th>\n",
              "      <th>casual</th>\n",
              "      <th>registered</th>\n",
              "      <th>cnt</th>\n",
              "    </tr>\n",
              "    <tr>\n",
              "      <th>workingday</th>\n",
              "      <th></th>\n",
              "      <th></th>\n",
              "      <th></th>\n",
              "    </tr>\n",
              "  </thead>\n",
              "  <tbody>\n",
              "    <tr>\n",
              "      <th>Non-Working Day</th>\n",
              "      <td>316732</td>\n",
              "      <td>683537</td>\n",
              "      <td>1000269</td>\n",
              "    </tr>\n",
              "    <tr>\n",
              "      <th>Working Day</th>\n",
              "      <td>303285</td>\n",
              "      <td>1989125</td>\n",
              "      <td>2292410</td>\n",
              "    </tr>\n",
              "  </tbody>\n",
              "</table>\n",
              "</div>"
            ],
            "text/plain": [
              "                 casual  registered      cnt\n",
              "workingday                                  \n",
              "Non-Working Day  316732      683537  1000269\n",
              "Working Day      303285     1989125  2292410"
            ]
          },
          "execution_count": 132,
          "metadata": {},
          "output_type": "execute_result"
        }
      ],
      "source": [
        "#Berdasarakan workingday\n",
        "hour_df.groupby(by=\"workingday\").agg({\n",
        "    \"casual\": \"sum\",\n",
        "    \"registered\": \"sum\",\n",
        "    \"cnt\": \"sum\"\n",
        "})"
      ]
    },
    {
      "cell_type": "markdown",
      "metadata": {},
      "source": [
        "Berdasarkan keluaran di atas dapat dilihat bahwa total jumlah penyewa sepeda paling banyak pada Working day."
      ]
    },
    {
      "cell_type": "markdown",
      "metadata": {},
      "source": [
        "**Kode di atas akan menghasilkan sebuah pivot table. Yang memuat informasi jumlah penyewa sepeda yang dikelompokkan berdasarkan year, month, weekday, season, hodiday, dan workingday.**"
      ]
    },
    {
      "cell_type": "code",
      "execution_count": 139,
      "metadata": {},
      "outputs": [
        {
          "data": {
            "text/plain": [
              "hr\n",
              "17    494\n",
              "18    471\n",
              "8     467\n",
              "19    423\n",
              "16    414\n",
              "14    385\n",
              "15    383\n",
              "12    383\n",
              "13    377\n",
              "7     374\n",
              "20    360\n",
              "11    337\n",
              "9     322\n",
              "10    312\n",
              "21    294\n",
              "22    252\n",
              "23    196\n",
              "6     187\n",
              "0     162\n",
              "1     120\n",
              "2     100\n",
              "3      60\n",
              "5      58\n",
              "4      25\n",
              "Name: cnt, dtype: int64"
            ]
          },
          "execution_count": 139,
          "metadata": {},
          "output_type": "execute_result"
        }
      ],
      "source": [
        "hour_df.groupby(\"hr\")[\"cnt\"].nunique().sort_values(ascending=False)\n"
      ]
    },
    {
      "cell_type": "markdown",
      "metadata": {},
      "source": [
        "Persebaran total jumlah penyewa sepeda berdasarkan jam di atas, dapat dilihat bahwa persebaran tidak merata pada setiap jam. Total penyewa sepeda paling banyak berada di jam 17.00 dan paling sedikit pada jam 4.00"
      ]
    },
    {
      "cell_type": "code",
      "execution_count": 143,
      "metadata": {},
      "outputs": [
        {
          "data": {
            "text/html": [
              "<div>\n",
              "<style scoped>\n",
              "    .dataframe tbody tr th:only-of-type {\n",
              "        vertical-align: middle;\n",
              "    }\n",
              "\n",
              "    .dataframe tbody tr th {\n",
              "        vertical-align: top;\n",
              "    }\n",
              "\n",
              "    .dataframe thead th {\n",
              "        text-align: right;\n",
              "    }\n",
              "</style>\n",
              "<table border=\"1\" class=\"dataframe\">\n",
              "  <thead>\n",
              "    <tr style=\"text-align: right;\">\n",
              "      <th></th>\n",
              "      <th></th>\n",
              "      <th>cnt</th>\n",
              "    </tr>\n",
              "    <tr>\n",
              "      <th>yr</th>\n",
              "      <th>mnth</th>\n",
              "      <th></th>\n",
              "    </tr>\n",
              "  </thead>\n",
              "  <tbody>\n",
              "    <tr>\n",
              "      <th rowspan=\"12\" valign=\"top\">2011</th>\n",
              "      <th>April</th>\n",
              "      <td>94870</td>\n",
              "    </tr>\n",
              "    <tr>\n",
              "      <th>August</th>\n",
              "      <td>136691</td>\n",
              "    </tr>\n",
              "    <tr>\n",
              "      <th>December</th>\n",
              "      <td>87323</td>\n",
              "    </tr>\n",
              "    <tr>\n",
              "      <th>February</th>\n",
              "      <td>48215</td>\n",
              "    </tr>\n",
              "    <tr>\n",
              "      <th>January</th>\n",
              "      <td>38189</td>\n",
              "    </tr>\n",
              "    <tr>\n",
              "      <th>July</th>\n",
              "      <td>141341</td>\n",
              "    </tr>\n",
              "    <tr>\n",
              "      <th>June</th>\n",
              "      <td>143512</td>\n",
              "    </tr>\n",
              "    <tr>\n",
              "      <th>March</th>\n",
              "      <td>64045</td>\n",
              "    </tr>\n",
              "    <tr>\n",
              "      <th>May</th>\n",
              "      <td>135821</td>\n",
              "    </tr>\n",
              "    <tr>\n",
              "      <th>November</th>\n",
              "      <td>102167</td>\n",
              "    </tr>\n",
              "    <tr>\n",
              "      <th>October</th>\n",
              "      <td>123511</td>\n",
              "    </tr>\n",
              "    <tr>\n",
              "      <th>September</th>\n",
              "      <td>127418</td>\n",
              "    </tr>\n",
              "    <tr>\n",
              "      <th rowspan=\"12\" valign=\"top\">2012</th>\n",
              "      <th>April</th>\n",
              "      <td>174224</td>\n",
              "    </tr>\n",
              "    <tr>\n",
              "      <th>August</th>\n",
              "      <td>214503</td>\n",
              "    </tr>\n",
              "    <tr>\n",
              "      <th>December</th>\n",
              "      <td>123713</td>\n",
              "    </tr>\n",
              "    <tr>\n",
              "      <th>February</th>\n",
              "      <td>103137</td>\n",
              "    </tr>\n",
              "    <tr>\n",
              "      <th>January</th>\n",
              "      <td>96744</td>\n",
              "    </tr>\n",
              "    <tr>\n",
              "      <th>July</th>\n",
              "      <td>203607</td>\n",
              "    </tr>\n",
              "    <tr>\n",
              "      <th>June</th>\n",
              "      <td>202830</td>\n",
              "    </tr>\n",
              "    <tr>\n",
              "      <th>March</th>\n",
              "      <td>164875</td>\n",
              "    </tr>\n",
              "    <tr>\n",
              "      <th>May</th>\n",
              "      <td>195865</td>\n",
              "    </tr>\n",
              "    <tr>\n",
              "      <th>November</th>\n",
              "      <td>152664</td>\n",
              "    </tr>\n",
              "    <tr>\n",
              "      <th>October</th>\n",
              "      <td>198841</td>\n",
              "    </tr>\n",
              "    <tr>\n",
              "      <th>September</th>\n",
              "      <td>218573</td>\n",
              "    </tr>\n",
              "  </tbody>\n",
              "</table>\n",
              "</div>"
            ],
            "text/plain": [
              "                   cnt\n",
              "yr   mnth             \n",
              "2011 April       94870\n",
              "     August     136691\n",
              "     December    87323\n",
              "     February    48215\n",
              "     January     38189\n",
              "     July       141341\n",
              "     June       143512\n",
              "     March       64045\n",
              "     May        135821\n",
              "     November   102167\n",
              "     October    123511\n",
              "     September  127418\n",
              "2012 April      174224\n",
              "     August     214503\n",
              "     December   123713\n",
              "     February   103137\n",
              "     January     96744\n",
              "     July       203607\n",
              "     June       202830\n",
              "     March      164875\n",
              "     May        195865\n",
              "     November   152664\n",
              "     October    198841\n",
              "     September  218573"
            ]
          },
          "execution_count": 143,
          "metadata": {},
          "output_type": "execute_result"
        }
      ],
      "source": [
        "#preferensi jumlah penyewa sepeda berdasarakan tahun\n",
        "hour_df.groupby(by=[\"yr\", \"mnth\"]).agg({\n",
        "    \"cnt\": \"sum\"\n",
        "})"
      ]
    },
    {
      "cell_type": "markdown",
      "metadata": {},
      "source": [
        "Pivot table di atas memberikan kita gambaran terkait total jumlah penyewa sepeda (cnt) berdasarkan tahun dan bulan."
      ]
    },
    {
      "cell_type": "markdown",
      "metadata": {},
      "source": [
        "**Melihat distribusi data numerik**"
      ]
    },
    {
      "cell_type": "code",
      "execution_count": 88,
      "metadata": {},
      "outputs": [
        {
          "data": {
            "image/png": "[encoded data removed]",
            "text/plain": [
              "<Figure size 1200x800 with 4 Axes>"
            ]
          },
          "metadata": {},
          "output_type": "display_data"
        }
      ],
      "source": [
        "#Histogram\n",
        "numerical_cols = ['temp', 'hum', 'windspeed', 'cnt']\n",
        "\n",
        "plt.figure(figsize=(12, 8))\n",
        "for i, col in enumerate(numerical_cols, 1):\n",
        "    plt.subplot(2, 2, i)\n",
        "    sns.histplot(hour_df[col], bins=30, kde=True)\n",
        "    plt.title(f'Distribusi {col}')\n",
        "plt.tight_layout()\n",
        "plt.show()"
      ]
    },
    {
      "cell_type": "code",
      "execution_count": 92,
      "metadata": {},
      "outputs": [
        {
          "data": {
            "image/png": "[encoded data removed]",
            "text/plain": [
              "<Figure size 600x400 with 1 Axes>"
            ]
          },
          "metadata": {},
          "output_type": "display_data"
        },
        {
          "data": {
            "image/png": "[encoded data removed]",
            "text/plain": [
              "<Figure size 600x400 with 1 Axes>"
            ]
          },
          "metadata": {},
          "output_type": "display_data"
        },
        {
          "data": {
            "image/png": "[encoded data removed]",
            "text/plain": [
              "<Figure size 600x400 with 1 Axes>"
            ]
          },
          "metadata": {},
          "output_type": "display_data"
        },
        {
          "data": {
            "image/png": "[encoded data removed]",
            "text/plain": [
              "<Figure size 600x400 with 1 Axes>"
            ]
          },
          "metadata": {},
          "output_type": "display_data"
        }
      ],
      "source": [
        "numerical_cols = ['temp', 'hum', 'windspeed', 'cnt']\n",
        "\n",
        "for col in numerical_cols:\n",
        "    plt.figure(figsize=(6, 4))\n",
        "    sns.boxplot(y=hour_df[col])\n",
        "    plt.title(f'Boxplot dari {col}')\n",
        "    plt.show()"
      ]
    },
    {
      "cell_type": "code",
      "execution_count": 93,
      "metadata": {},
      "outputs": [
        {
          "data": {
            "image/png": "[encoded data removed]",
            "text/plain": [
              "<Figure size 1000x500 with 1 Axes>"
            ]
          },
          "metadata": {},
          "output_type": "display_data"
        }
      ],
      "source": [
        "plt.figure(figsize=(10,5))\n",
        "sns.boxplot(x='season', y='cnt', data=hour_df)\n",
        "plt.title('Distribusi Penyewaan Sepeda per Musim')\n",
        "plt.show()"
      ]
    },
    {
      "cell_type": "markdown",
      "metadata": {},
      "source": [
        "Berdasarkan histogram dan box plot di atas dapat dilihat bahwa data pada 'temp', 'hum', 'windspeed', dan 'cnt' tidak berdistribusi normal."
      ]
    },
    {
      "cell_type": "code",
      "execution_count": null,
      "metadata": {},
      "outputs": [],
      "source": [
        "# Menambahkan kolom casual_p dan registered_p ke dalam dataset\n",
        "hour_df[\"casual_p\"] = (hour_df[\"casual\"] / hour_df[\"cnt\"]) * 100\n",
        "hour_df[\"registerd_p\"] = (hour_df[\"registered\"] / hour_df[\"cnt\"]) * 100\n",
        "\n",
        "# Menampilkan dataset dengan semua kolom\n",
        "print(hour_df.head())"
      ]
    },
    {
      "cell_type": "markdown",
      "metadata": {
        "id": "zsyZjqak8DC2"
      },
      "source": [
        "## Visualization & Explanatory Analysis"
      ]
    },
    {
      "cell_type": "markdown",
      "metadata": {
        "id": "HZxOiQ6n8DC2"
      },
      "source": [
        "### Pertanyaan 1: Bagaimana tren jumlah penyewaan sepeda setiap bulan selama tahun 2021 dan 2012, apakah terdapat perbedaan signifikan?"
      ]
    },
    {
      "cell_type": "code",
      "execution_count": 189,
      "metadata": {},
      "outputs": [
        {
          "data": {
            "image/png": "[encoded data removed]",
            "text/plain": [
              "<Figure size 1000x500 with 1 Axes>"
            ]
          },
          "metadata": {},
          "output_type": "display_data"
        }
      ],
      "source": [
        "# Filter data berdasarkan tahun\n",
        "monthly_trend_2011 = hour_df[hour_df[\"yr\"] == 2011].groupby(\"mnth\")[\"cnt\"].sum()\n",
        "monthly_trend_2012 = hour_df[hour_df[\"yr\"] == 2012].groupby(\"mnth\")[\"cnt\"].sum()\n",
        "\n",
        "# Plot Line Chart\n",
        "plt.figure(figsize=(10,5))\n",
        "\n",
        "# Garis untuk 2011\n",
        "sns.lineplot(x=monthly_trend_2011.index, y=monthly_trend_2011.values, marker=\"o\", color=\"b\", label=\"2011\")\n",
        "\n",
        "# Garis untuk 2012\n",
        "sns.lineplot(x=monthly_trend_2012.index, y=monthly_trend_2012.values, marker=\"o\", color=\"r\", label=\"2012\")\n",
        "\n",
        "# Atur label sumbu x\n",
        "plt.xticks(range(1, 13), [\"Jan\", \"Feb\", \"Mar\", \"Apr\", \"Mei\", \"Jun\", \"Jul\", \"Agu\", \"Sep\", \"Okt\", \"Nov\", \"Des\"])\n",
        "\n",
        "plt.xlabel(\"Bulan\")\n",
        "plt.ylabel(\"Total penyewaan Sepeda\")\n",
        "plt.title(\"Tren Jumlah penyewaan Sepeda per Bulan (2011 vs 2012)\")\n",
        "plt.legend()\n",
        "plt.grid(True)\n",
        "plt.show()"
      ]
    },
    {
      "cell_type": "markdown",
      "metadata": {},
      "source": [
        "**Insight:**\n",
        "- Dengan visulisasi di atas dapat kita lihat bahwa ada perubahan signifikan setiap bulannya.\n",
        "- Dengan melihat pola grafik, kita bisa mengetahui pola jumlah penyewaan sepeda per setiap bulan pada tahun 2011 dan 2012 memiliki pola yang hampir sama. Di mana di setiap bulannya terus mengalami perubahan, dengan inti pola terdapat penurunan jumlah penyewaan pada bulan April, Juli, dan September.\n",
        "- Dengan membandingkan kedua garis (biru untuk 2011, merah untuk 2012), kita dapat melihat terjadi peningkatan jumlah penyewaan sepeda, di mana pada tahun 2012 lebih tinggi setiap bulannya dari pada tahun 2011."
      ]
    },
    {
      "cell_type": "markdown",
      "metadata": {},
      "source": [
        "### Pertanyaan 2: Bagaimana pengaruh kondisi cuaca terhadap jumlah penyewaan sepeda di tahun 2011 dan 2012, apakah terdapat perbedaan signifikan?"
      ]
    },
    {
      "cell_type": "code",
      "execution_count": 190,
      "metadata": {},
      "outputs": [
        {
          "name": "stdout",
          "output_type": "stream",
          "text": [
            "weathersit  Cloudy  Few Clouds  Heavy Rain   Rain\n",
            "yr                                               \n",
            "2011        300519      875053          36  67495\n",
            "2012        495433     1463120         187  90836\n"
          ]
        },
        {
          "data": {
            "text/plain": [
              "<Figure size 1000x500 with 0 Axes>"
            ]
          },
          "metadata": {},
          "output_type": "display_data"
        },
        {
          "data": {
            "image/png": "[encoded data removed]",
            "text/plain": [
              "<Figure size 1000x500 with 1 Axes>"
            ]
          },
          "metadata": {},
          "output_type": "display_data"
        }
      ],
      "source": [
        "# Menghitung total penyewaan berdasarkan tahun dan kondisi cuaca\n",
        "weather_trend_yearly = hour_df.groupby([\"yr\", \"weathersit\"])[\"cnt\"].sum().unstack()\n",
        "\n",
        "# Menampilkan hasil data sebelum plot\n",
        "print(weather_trend_yearly)\n",
        "\n",
        "# Plot hasilnya\n",
        "plt.figure(figsize=(10,5))\n",
        "weather_trend_yearly.T.plot(kind=\"bar\", figsize=(10,5), colormap=\"viridis\")\n",
        "\n",
        "# Mengatur label\n",
        "plt.xticks([0,1,2,3], [\"Cerah\", \"Berawan\", \"Hujan Ringan\", \"Hujan Lebat\"], rotation=0)\n",
        "plt.xlabel(\"Kondisi Cuaca\")\n",
        "plt.ylabel(\"Total Penyewaan\")\n",
        "plt.title(\"Total Penyewaan Sepeda Berdasarkan Cuaca per Tahun\")\n",
        "plt.legend([\"2011\", \"2012\"], title=\"Tahun\")\n",
        "plt.grid(axis=\"y\")\n",
        "\n",
        "plt.show()\n"
      ]
    },
    {
      "cell_type": "markdown",
      "metadata": {},
      "source": [
        "**Insight:**\n",
        "- Dengan visulisasi di atas dapat kita lihat bahwa ada perubahan signifikan di setiap kondisi cuaca.\n",
        "- Dengan melihat grafik, kita bisa mengetahui pada kondisi cuaca \"Few Clouds\" (Mendung) dan \"Cloudy\" (Berawan) memiliki jumlah penyewaan tertinggi. Serta penurunan jumlah secara dratis pada kondisi cuaca \"Heavy Rain\" (Hujan Lebat) dan \"Rain\" (Hujan Ringan).\n",
        "- Dengan membandingkan jumlah penyewaan sepeda berdasarkan tahun, terdapat peningkatan signifikan dalam jumlah penyewaan sepeda pada semua kondisi cuaca dari 2011 ke 2012. Menunjukkan tren pertumbuhan positif. "
      ]
    },
    {
      "cell_type": "markdown",
      "metadata": {
        "id": "DgHI7CiU8DC2"
      },
      "source": [
        "### Pertanyaan 3: Bagaimana tren penyewaan sepeda berdasarkan jam?"
      ]
    },
    {
      "cell_type": "code",
      "execution_count": 191,
      "metadata": {},
      "outputs": [
        {
          "name": "stdout",
          "output_type": "stream",
          "text": [
            "hr\n",
            "0      39130\n",
            "1      24164\n",
            "2      16352\n",
            "3       8174\n",
            "4       4428\n",
            "5      14261\n",
            "6      55132\n",
            "7     154171\n",
            "8     261001\n",
            "9     159438\n",
            "10    126257\n",
            "11    151320\n",
            "12    184414\n",
            "13    184919\n",
            "14    175652\n",
            "15    183149\n",
            "16    227748\n",
            "17    336860\n",
            "18    309772\n",
            "19    226789\n",
            "20    164550\n",
            "21    125445\n",
            "22     95612\n",
            "23     63941\n",
            "Name: cnt, dtype: int64\n"
          ]
        },
        {
          "data": {
            "image/png": "[encoded data removed]",
            "text/plain": [
              "<Figure size 1000x500 with 1 Axes>"
            ]
          },
          "metadata": {},
          "output_type": "display_data"
        }
      ],
      "source": [
        "# Menghitung total pepenyewaan berdasarkan jam\n",
        "hourly_trend = hour_df.groupby(\"hr\")[\"cnt\"].sum()\n",
        "\n",
        "# Menampilkan hasil data\n",
        "print(hourly_trend)\n",
        "\n",
        "# Visualisasi\n",
        "plt.figure(figsize=(10,5))\n",
        "sns.lineplot(x=hourly_trend.index, y=hourly_trend.values, marker=\"o\", color=\"g\")\n",
        "plt.xlabel(\"Jam\")\n",
        "plt.ylabel(\"Total Penyewaan\")\n",
        "plt.title(\"Tren Penyewaan Sepeda Berdasarkan Jam\")\n",
        "plt.xticks(range(0,24))\n",
        "plt.grid(True)\n",
        "plt.show()\n"
      ]
    },
    {
      "cell_type": "markdown",
      "metadata": {},
      "source": [
        "**Insight:**\n",
        "- Berdasarkan visualisasi di atas, jumlah penyewaan sepeda meningkat signifikan pada pukul 08:00 (261.001 penyewaan) dan pukul 17:00 (336.860 penyewaan). Ini menunjukkan bahwa jam tersebut merupakan puncak utama penyewaan, yang kemungkinan besar terkait dengan jam keberangkatan dan pulang aktivitas seperti kerja atau sekolah. Sebaliknya, penyewaan sepeda cenderung rendah pada dini hari (pukul 03:00 - 04:00), mencerminkan minimnya aktivitas pada jam-jam tersebut."
      ]
    },
    {
      "cell_type": "markdown",
      "metadata": {},
      "source": [
        "### Pertanyaan 4: Bagaimana pengaruh variabel cuaca (temperatur, kelembaban, dan kecepatan angin) terhadap jumlah penyewaan sepeda?"
      ]
    },
    {
      "cell_type": "code",
      "execution_count": 192,
      "metadata": {},
      "outputs": [
        {
          "name": "stdout",
          "output_type": "stream",
          "text": [
            "                cnt      temp       hum  windspeed\n",
            "cnt        1.000000  0.404772 -0.322911   0.093234\n",
            "temp       0.404772  1.000000 -0.069881  -0.023125\n",
            "hum       -0.322911 -0.069881  1.000000  -0.290105\n",
            "windspeed  0.093234 -0.023125 -0.290105   1.000000\n"
          ]
        },
        {
          "data": {
            "image/png": "[encoded data removed]",
            "text/plain": [
              "<Figure size 800x600 with 2 Axes>"
            ]
          },
          "metadata": {},
          "output_type": "display_data"
        }
      ],
      "source": [
        "# Menghitung korelasi antara variabel cuaca dan jumlah penyewaan sepeda\n",
        "correlation = hour_df[[\"cnt\", \"temp\", \"hum\", \"windspeed\"]].corr()\n",
        "print(correlation)\n",
        "\n",
        "# Visualisasi menggunakan heatmap\n",
        "plt.figure(figsize=(8,6))\n",
        "sns.heatmap(correlation, annot=True, cmap=\"viridis\", fmt=\".2f\", linewidths=0.5)\n",
        "\n",
        "# Mengatur judul\n",
        "plt.title(\"Heatmap Korelasi antara Variabel Cuaca dan Jumlah Penyewaan Sepeda\")\n",
        "plt.show()"
      ]
    },
    {
      "cell_type": "markdown",
      "metadata": {},
      "source": [
        "**Insight:**\n",
        "- Berdasarkan visualisasi heatmap, semakin berwarna kuning, maka korelasinya semakin kuat dan positif, sedangkan semakin gelap berwarna ungu menunjukkan korelasi yang kuat tetapi negatif. Berdasarkan heatmap diperoleh bahwa Temperatur adalah faktor cuaca yang paling berpengaruh terhadap penyewaan sepeda dan memiliki hubungan yang positif artinya semakin tinggi temperatur semakin banyak penyewaan sepeda, sedangkan Kelembaban hubungan nya negatif artinya semakin tinggi kelembapan semakin jumlah penyewaan sepeda. Serta, Kecepatan angin memiliki pengaruh yang sangat kecil terhadap jumlah penyewaan sepeda."
      ]
    },
    {
      "cell_type": "markdown",
      "metadata": {},
      "source": [
        "### Visualisasi tambahan"
      ]
    },
    {
      "cell_type": "code",
      "execution_count": 193,
      "metadata": {},
      "outputs": [
        {
          "name": "stdout",
          "output_type": "stream",
          "text": [
            "season    Fall  Spring  Summer  Winter\n",
            "yr                                    \n",
            "2011    419650  150000  347316  326137\n",
            "2012    641479  321348  571273  515476\n"
          ]
        },
        {
          "data": {
            "text/plain": [
              "<Figure size 800x500 with 0 Axes>"
            ]
          },
          "metadata": {},
          "output_type": "display_data"
        },
        {
          "data": {
            "image/png": "[encoded data removed]",
            "text/plain": [
              "<Figure size 800x500 with 1 Axes>"
            ]
          },
          "metadata": {},
          "output_type": "display_data"
        }
      ],
      "source": [
        "# Menghitung total penyewaan berdasarkan tahun dan musim\n",
        "season_trend_yearly = hour_df.groupby([\"yr\", \"season\"])[\"cnt\"].sum().unstack()\n",
        "\n",
        "# Menampilkan hasil data\n",
        "print(season_trend_yearly)\n",
        "\n",
        "# Visualisasi\n",
        "plt.figure(figsize=(8,5))\n",
        "season_trend_yearly.T.plot(kind=\"bar\", figsize=(8,5), colormap=\"coolwarm\")\n",
        "\n",
        "# Mengatur label\n",
        "plt.xticks([0,1,2,3], [\"Spring\", \"Summer\", \"Fall\", \"Winter\"], rotation=0)\n",
        "plt.xlabel(\"Musim\")\n",
        "plt.ylabel(\"Total Penyewaan\")\n",
        "plt.title(\"Total Penyewaan Sepeda Berdasarkan Musim per Tahun\")\n",
        "plt.legend([\"2011\", \"2012\"], title=\"Tahun\")\n",
        "plt.grid(axis=\"y\")\n",
        "\n",
        "plt.show()\n"
      ]
    },
    {
      "cell_type": "code",
      "execution_count": 194,
      "metadata": {},
      "outputs": [
        {
          "name": "stdout",
          "output_type": "stream",
          "text": [
            "workingday  Non-Working Day  Working Day\n",
            "yr                                      \n",
            "2011                 386839       856264\n",
            "2012                 613430      1436146\n"
          ]
        },
        {
          "data": {
            "text/plain": [
              "<Figure size 800x500 with 0 Axes>"
            ]
          },
          "metadata": {},
          "output_type": "display_data"
        },
        {
          "data": {
            "image/png": "[encoded data removed]",
            "text/plain": [
              "<Figure size 800x500 with 1 Axes>"
            ]
          },
          "metadata": {},
          "output_type": "display_data"
        }
      ],
      "source": [
        "# Menghitung total penyewaan berdasarkan tahun dan hari kerja\n",
        "workingday_trend_yearly = hour_df.groupby([\"yr\", \"workingday\"])[\"cnt\"].sum().unstack()\n",
        "\n",
        "# Menampilkan hasil data\n",
        "print(workingday_trend_yearly)\n",
        "\n",
        "# Visualisasi\n",
        "plt.figure(figsize=(8,5))\n",
        "workingday_trend_yearly.T.plot(kind=\"bar\", figsize=(8,5), colormap=\"viridis\")\n",
        "\n",
        "# Mengatur label\n",
        "plt.xticks([0,1], [\"Hari Libur\", \"Hari Kerja\"], rotation=0)\n",
        "plt.xlabel(\"Hari\")\n",
        "plt.ylabel(\"Total Penyewaan\")\n",
        "plt.title(\"Perbandingan Penyewaan Sepeda pada Hari Kerja dan Libur per Tahun\")\n",
        "plt.legend([\"2011\", \"2012\"], title=\"Tahun\")\n",
        "plt.grid(axis=\"y\")\n",
        "\n",
        "plt.show()\n"
      ]
    },
    {
      "cell_type": "markdown",
      "metadata": {
        "id": "9y4VUsmcYNZ5"
      },
      "source": [
        "## Analisis Lanjutan (Clustering)\n",
        "### Teknik analisis lanjutan yang dilakukan adalah Clustering Penyewaan Sepeda Berdasarkan Pola Waktu"
      ]
    },
    {
      "cell_type": "markdown",
      "metadata": {},
      "source": [
        "**Tujuan:**\n",
        "\n",
        "Mengelompokkan pengguna berdasarkan jam penyewaan untuk memahami kapan dan bagaimana mereka menggunakan layanan sepeda.\n",
        "\n",
        "**Kategorikan pengguna berdasarkan jam penyewaan tertinggi:**\n",
        "- Cluster 1 = Commuter: Penyewaan pada jam 07:00 - 09:00 dan 17:00 - 19:00.\n",
        "- Cluster 2 = Evening Rider: Penyewaan pada jam 18:00 - 22:00.\n",
        "- Cluster 3 = All-Day Rider: Penyewaan tersebar merata sepanjang hari.\n",
        "- Cluster 4 = Night Owl: Penyewaan pada 22:00 - 05:00.\n"
      ]
    },
    {
      "cell_type": "code",
      "execution_count": 185,
      "metadata": {
        "id": "iWhnzsJGYUCO"
      },
      "outputs": [
        {
          "name": "stdout",
          "output_type": "stream",
          "text": [
            "    hr     cnt        Cluster\n",
            "0    0   39130      Night Owl\n",
            "1    1   24164      Night Owl\n",
            "2    2   16352      Night Owl\n",
            "3    3    8174      Night Owl\n",
            "4    4    4428      Night Owl\n",
            "5    5   14261  All-Day Rider\n",
            "6    6   55132  All-Day Rider\n",
            "7    7  154171       Commuter\n",
            "8    8  261001       Commuter\n",
            "9    9  159438       Commuter\n",
            "10  10  126257  All-Day Rider\n",
            "11  11  151320  All-Day Rider\n",
            "12  12  184414  All-Day Rider\n",
            "13  13  184919  All-Day Rider\n",
            "14  14  175652  All-Day Rider\n",
            "15  15  183149  All-Day Rider\n",
            "16  16  227748  All-Day Rider\n",
            "17  17  336860       Commuter\n",
            "18  18  309772       Commuter\n",
            "19  19  226789       Commuter\n",
            "20  20  164550  Evening Rider\n",
            "21  21  125445  Evening Rider\n",
            "22  22   95612  Evening Rider\n",
            "23  23   63941      Night Owl\n"
          ]
        }
      ],
      "source": [
        "# Membuat kolom cluster\n",
        "cluster = hour_df.groupby(\"hr\")[\"cnt\"].sum().reset_index()\n",
        "\n",
        "# Menentukan kategori berdasarkan jam penyewaan\n",
        "def categorize_hour(hr):\n",
        "    if 7 <= hr <= 9 or 17 <= hr <= 19:\n",
        "        return \"Commuter\"\n",
        "    elif 18 <= hr <= 22:\n",
        "        return \"Evening Rider\"\n",
        "    elif 22 < hr or hr < 5:\n",
        "        return \"Night Owl\"\n",
        "    else:\n",
        "        return \"All-Day Rider\"\n",
        "\n",
        "# Terapkan fungsi ke setiap baris\n",
        "cluster[\"Cluster\"] = cluster[\"hr\"].apply(categorize_hour)\n",
        "\n",
        "# Menampilkan hasil\n",
        "print(cluster)\n"
      ]
    },
    {
      "cell_type": "code",
      "execution_count": 186,
      "metadata": {},
      "outputs": [
        {
          "name": "stdout",
          "output_type": "stream",
          "text": [
            "       instant     dteday  season    yr      mnth  hr     holiday   weekday  \\\n",
            "0            1 2011-01-01  Spring  2011   January   0  No Holiday  Saturday   \n",
            "1            2 2011-01-01  Spring  2011   January   1  No Holiday  Saturday   \n",
            "2            3 2011-01-01  Spring  2011   January   2  No Holiday  Saturday   \n",
            "3            4 2011-01-01  Spring  2011   January   3  No Holiday  Saturday   \n",
            "4            5 2011-01-01  Spring  2011   January   4  No Holiday  Saturday   \n",
            "...        ...        ...     ...   ...       ...  ..         ...       ...   \n",
            "17374    17375 2012-12-31  Spring  2012  December  19  No Holiday    Monday   \n",
            "17375    17376 2012-12-31  Spring  2012  December  20  No Holiday    Monday   \n",
            "17376    17377 2012-12-31  Spring  2012  December  21  No Holiday    Monday   \n",
            "17377    17378 2012-12-31  Spring  2012  December  22  No Holiday    Monday   \n",
            "17378    17379 2012-12-31  Spring  2012  December  23  No Holiday    Monday   \n",
            "\n",
            "            workingday  weathersit  temp   atemp   hum  windspeed  casual  \\\n",
            "0      Non-Working Day  Few Clouds  0.24  0.2879  0.81     0.0000       3   \n",
            "1      Non-Working Day  Few Clouds  0.22  0.2727  0.80     0.0000       8   \n",
            "2      Non-Working Day  Few Clouds  0.22  0.2727  0.80     0.0000       5   \n",
            "3      Non-Working Day  Few Clouds  0.24  0.2879  0.75     0.0000       3   \n",
            "4      Non-Working Day  Few Clouds  0.24  0.2879  0.75     0.0000       0   \n",
            "...                ...         ...   ...     ...   ...        ...     ...   \n",
            "17374      Working Day      Cloudy  0.26  0.2576  0.60     0.1642      11   \n",
            "17375      Working Day      Cloudy  0.26  0.2576  0.60     0.1642       8   \n",
            "17376      Working Day  Few Clouds  0.26  0.2576  0.60     0.1642       7   \n",
            "17377      Working Day  Few Clouds  0.26  0.2727  0.56     0.1343      13   \n",
            "17378      Working Day  Few Clouds  0.26  0.2727  0.65     0.1343      12   \n",
            "\n",
            "       registered  cnt   casual_p  registerd_p        Cluster  \n",
            "0              13   16  18.750000    81.250000      Night Owl  \n",
            "1              32   40  20.000000    80.000000      Night Owl  \n",
            "2              27   32  15.625000    84.375000      Night Owl  \n",
            "3              10   13  23.076923    76.923077      Night Owl  \n",
            "4               1    1   0.000000   100.000000      Night Owl  \n",
            "...           ...  ...        ...          ...            ...  \n",
            "17374         108  119   9.243697    90.756303       Commuter  \n",
            "17375          81   89   8.988764    91.011236  Evening Rider  \n",
            "17376          83   90   7.777778    92.222222  Evening Rider  \n",
            "17377          48   61  21.311475    78.688525  Evening Rider  \n",
            "17378          37   49  24.489796    75.510204      Night Owl  \n",
            "\n",
            "[17379 rows x 20 columns]\n"
          ]
        }
      ],
      "source": [
        "# Menyalin dataset asli\n",
        "df = hour_df.copy()\n",
        "\n",
        "# Menentukan kategori berdasarkan jam penyewaan\n",
        "def categorize_hour(hr):\n",
        "    if 7 <= hr <= 9 or 17 <= hr <= 19:\n",
        "        return \"Commuter\"\n",
        "    elif 18 <= hr <= 22:\n",
        "        return \"Evening Rider\"\n",
        "    elif 22 < hr or hr < 5:\n",
        "        return \"Night Owl\"\n",
        "    else:\n",
        "        return \"All-Day Rider\"\n",
        "\n",
        "# Terapkan fungsi ke setiap baris\n",
        "df[\"Cluster\"] = df[\"hr\"].apply(categorize_hour)\n",
        "\n",
        "# Menampilkan hasil\n",
        "print(df)"
      ]
    },
    {
      "cell_type": "code",
      "execution_count": 187,
      "metadata": {},
      "outputs": [
        {
          "name": "stderr",
          "output_type": "stream",
          "text": [
            "C:\\Users\\Lenovo\\AppData\\Local\\Temp\\ipykernel_9052\\2784748559.py:13: FutureWarning: \n",
            "\n",
            "Passing `palette` without assigning `hue` is deprecated and will be removed in v0.14.0. Assign the `x` variable to `hue` and set `legend=False` for the same effect.\n",
            "\n",
            "  sns.barplot(x=\"Cluster\", y=\"Total_Penyewaan\", data=cluster_summary, palette=\"coolwarm\")\n"
          ]
        },
        {
          "data": {
            "image/png": "[encoded data removed]",
            "text/plain": [
              "<Figure size 1200x500 with 1 Axes>"
            ]
          },
          "metadata": {},
          "output_type": "display_data"
        }
      ],
      "source": [
        "# Menghitung total dan rata-rata penyewaan per cluster\n",
        "cluster_summary = df.groupby(\"Cluster\").agg(\n",
        "    Total_Penyewaan=(\"cnt\", \"sum\"),\n",
        "    Rata_rata_Penyewaan=(\"cnt\", \"mean\"),\n",
        "    Jumlah_Observasi=(\"cnt\", \"count\")\n",
        ").reset_index()\n",
        "\n",
        "# Mengurutkan berdasarkan total penyewaan agar lebih mudah dibaca\n",
        "cluster_summary = cluster_summary.sort_values(by=\"Total_Penyewaan\", ascending=False)\n",
        "\n",
        "# Membuat plot\n",
        "plt.figure(figsize=(12, 5))\n",
        "sns.barplot(x=\"Cluster\", y=\"Total_Penyewaan\", data=cluster_summary, palette=\"coolwarm\")\n",
        "\n",
        "# Menambahkan judul dan label\n",
        "plt.xlabel(\"Cluster\")\n",
        "plt.ylabel(\"Total Penyewaan\")\n",
        "plt.title(\"Total Penyewaan Sepeda Berdasarkan Cluster\")\n",
        "plt.xticks(rotation=30)\n",
        "plt.grid(axis=\"y\", linestyle=\"--\", alpha=0.7)\n",
        "\n",
        "# Menampilkan plot\n",
        "plt.show()"
      ]
    },
    {
      "cell_type": "markdown",
      "metadata": {},
      "source": [
        "**Insight:**\n",
        "- Jumlah penyewaan sepeda paling optimal terjadi pada Cluster Commuter, sehingga strategi promosi atau insentif bisa difokuskan pada jam ini untuk menarik lebih banyak pelanggan tetap. Selanjutnya di ikuti pada Cluster All-Day Rider dan Evening Rider, dan Cluster Night Owl kurang efektif untuk bisnis penyewaan sepeda, sehingga operasional atau penyesuaian harga di jam ini bisa dipertimbangkan."
      ]
    },
    {
      "cell_type": "code",
      "execution_count": 195,
      "metadata": {},
      "outputs": [
        {
          "name": "stderr",
          "output_type": "stream",
          "text": [
            "C:\\Users\\Lenovo\\AppData\\Local\\Temp\\ipykernel_9052\\392857277.py:3: FutureWarning: \n",
            "\n",
            "Passing `palette` without assigning `hue` is deprecated and will be removed in v0.14.0. Assign the `x` variable to `hue` and set `legend=False` for the same effect.\n",
            "\n",
            "  sns.barplot(x=\"Cluster\", y=\"Rata_rata_Penyewaan\", data=cluster_summary, palette=\"magma\")\n"
          ]
        },
        {
          "data": {
            "image/png": "[encoded data removed]",
            "text/plain": [
              "<Figure size 1200x500 with 1 Axes>"
            ]
          },
          "metadata": {},
          "output_type": "display_data"
        }
      ],
      "source": [
        "# Grafik rata-rata penyewaan\n",
        "plt.figure(figsize=(12, 5))\n",
        "sns.barplot(x=\"Cluster\", y=\"Rata_rata_Penyewaan\", data=cluster_summary, palette=\"magma\")\n",
        "\n",
        "# Menambahkan judul dan label\n",
        "plt.xlabel(\"Cluster\")\n",
        "plt.ylabel(\"Rata-rata Penyewaan\")\n",
        "plt.title(\"Rata-rata Penyewaan Sepeda Berdasarkan Cluster\")\n",
        "plt.xticks(rotation=30)\n",
        "plt.grid(axis=\"y\", linestyle=\"--\", alpha=0.7)\n",
        "\n",
        "# Menampilkan plot\n",
        "plt.show()"
      ]
    },
    {
      "cell_type": "markdown",
      "metadata": {},
      "source": [
        "**Insight:**\n",
        "\n",
        "Penyewaan sepeda paling optimal terjadi pada Cluster Commuter dan paling tidak optimal saat Cluster Night Owl.\n"
      ]
    },
    {
      "cell_type": "markdown",
      "metadata": {
        "id": "_WeHlCeX8DC2"
      },
      "source": [
        "## Conclusion"
      ]
    },
    {
      "cell_type": "markdown",
      "metadata": {
        "id": "ZTcyR48Y8DC2"
      },
      "source": [
        "- Conclusion pertanyaan 1: Bagaimana tren jumlah penyewaan sepeda setiap bulan selama tahun 2021 dan 2012, apakah terdapat perbedaan signifikan?\n",
        "\n",
        "Berdasarkan visualisasi data yang dilakukan dapat dilihat bahwa ada perbedaan signifikan jumlah penyewaan sepeda pada setiap bulan, dengan pola penurunan pada bulan April, Juli, dan September. Serta, terdapat peningkatan jumlah penyewaan sepeda pada tahun 2012 dibandingkan 2011 berdasarkan parameter bulan.\n",
        "\n",
        "- Conclusion pertanyaan 2: Bagaimana pengaruh kondisi cuaca terhadap jumlah penyewaan sepeda di tahun 2011 dan 2012, apakah terdapat perbedaan signifikan?\n",
        "\n",
        "Berdasarkan visualisasi data yang dilakukan dapat dilihat bahwa ada perbedaan signifikan jumlah penyewaan sepeda pada setiap kondisi cuaca, di mana jumlah penyewaan paling tinggi terjadi pada kondisi cuaca \"Few Clouds\" (Mendung) dan \"Cloudy\" (Berawan) dan jumlah penyewaan sepeda paling rendah pada kondisi cuaca \"Heavy Rain\" (Hujan Lebat) dan \"Rain\" (Hujan Ringan). Serta,  terdapat peningkatan jumlah penyewaan sepeda pada tahun 2012 dibandingkan 2011 berdasarkan parameter kondisi cuaca.\n",
        "\n",
        "- Conclusion pertanyaan 3: Bagaimana tren penyewaan sepeda berdasarkan jam?\n",
        "\n",
        "Berdasarkan visualisasi data yang dilakukan dapat dilihat bahwa terdapat tren jumlah penyewaan sepeda, di mana terdapat peningkatan jumlah penyewaan sepeda pada pukul 08:00 dan 17:00, sementara jumlah penyewaan sepeda terendah terjadi pada pukul 03:00 - 04:00.\n",
        "\n",
        "- Conclusion pertanyaan 4: Bagaimana pengaruh variabel cuaca (temperatur, kelembaban, dan kecepatan angin) terhadap jumlah penyewaan sepeda?\n",
        "\n",
        "Berdasarkan visualisasi data yang dilakukan dapat dilihat bahwa semakin berwarna kuning, maka korelasinya semakin kuat dan positif, sedangkan semakin ungu menunjukkan korelasi yang kuat tetapi negatif. Serta diperoleh faktor cuaca yang paling berpengaruh adalah temperatur dengan korelasi positif dan kelembapan dengan korelasi negatif, serta kecepatan angin memiliki pengaruh yang sangat kecil dalam mempengaruhi jumlah penyewaan sepeda.\n",
        "\n",
        "- Conslusion Analisis Lanjutan (Clustering)\n",
        "\n",
        "Berdasarkan Analisis Lanjut yaitu dengan metode Clustering diperoleh jumlah penyewaan sepeda paling optimal terjadi pada Cluster Commuter yaitu cluster pada jam 07:00 - 09:00 dan 17:00 - 19:00, sedangkan jumlah penyewaan sepeda paling tidak optimal terjadi pada Cluster All-Day Rider dan Cluster Evening Rider pada jam 18:00 - 22:00.\n"
      ]
    },
    {
      "cell_type": "markdown",
      "metadata": {},
      "source": [
        "## Saran"
      ]
    },
    {
      "cell_type": "markdown",
      "metadata": {},
      "source": [
        "Berdasarkan analisis dan visualisasi data yang dilakukan untuk meningkatkan pendapatan dapat dilakukan dengan penambahan jumlah sepeda pada bulan Januari dan November berdasarkan parameter bulan, pada kondisi cuaca \"Few Clouds\" (Mendung) dan \"Cloudy\" (Berawan) berdasarkan parameter cuaca, pada pukul 08.00 dan 17.00 berdasarkan parameter jam. Dan untuk mendapatkan keputusan yang lebih pasti dapat dilakukan analisis yang lebih lanjut."
      ]
    },
    {
      "cell_type": "code",
      "execution_count": null,
      "metadata": {},
      "outputs": [],
      "source": [
        "#Data Yang telah siap di Cleaning untuk persiapan Dashboard\n",
        "df.to_csv(\"data_penyewaan.csv\", index=False)\n",
        "df.to_csv(\"C:/Users/Lenovo/Downloads/data_penyewaan.csv\", index=False)  # Windows\n"
      ]
    }
  ],
  "metadata": {
    "colab": {
      "provenance": []
    },
    "kernelspec": {
      "display_name": "Python 3",
      "language": "python",
      "name": "python3"
    },
    "language_info": {
      "codemirror_mode": {
        "name": "ipython",
        "version": 3
      },
      "file_extension": ".py",
      "mimetype": "text/x-python",
      "name": "python",
      "nbconvert_exporter": "python",
      "pygments_lexer": "ipython3",
      "version": "3.12.5"
    },
    "orig_nbformat": 4,
    "vscode": {
      "interpreter": {
        "hash": "972b3bf27e332e87b5379f2791f6ef9dfc79c71018c370b0d7423235e20fe4d7"
      }
    }
  },
  "nbformat": 4,
  "nbformat_minor": 0
}
